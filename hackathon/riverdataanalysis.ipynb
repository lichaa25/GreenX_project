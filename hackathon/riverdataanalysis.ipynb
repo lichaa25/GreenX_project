{
 "cells": [
  {
   "cell_type": "code",
   "execution_count": null,
   "id": "cf1be0e5",
   "metadata": {},
   "outputs": [
    {
     "ename": "KeyError",
     "evalue": "'anomaly_flag'",
     "output_type": "error",
     "traceback": [
      "\u001b[31m---------------------------------------------------------------------------\u001b[39m",
      "\u001b[31mKeyError\u001b[39m                                  Traceback (most recent call last)",
      "\u001b[36mFile \u001b[39m\u001b[32m~\\AppData\\Roaming\\Python\\Python313\\site-packages\\pandas\\core\\indexes\\base.py:3805\u001b[39m, in \u001b[36mIndex.get_loc\u001b[39m\u001b[34m(self, key)\u001b[39m\n\u001b[32m   3804\u001b[39m \u001b[38;5;28;01mtry\u001b[39;00m:\n\u001b[32m-> \u001b[39m\u001b[32m3805\u001b[39m     \u001b[38;5;28;01mreturn\u001b[39;00m \u001b[38;5;28;43mself\u001b[39;49m\u001b[43m.\u001b[49m\u001b[43m_engine\u001b[49m\u001b[43m.\u001b[49m\u001b[43mget_loc\u001b[49m\u001b[43m(\u001b[49m\u001b[43mcasted_key\u001b[49m\u001b[43m)\u001b[49m\n\u001b[32m   3806\u001b[39m \u001b[38;5;28;01mexcept\u001b[39;00m \u001b[38;5;167;01mKeyError\u001b[39;00m \u001b[38;5;28;01mas\u001b[39;00m err:\n",
      "\u001b[36mFile \u001b[39m\u001b[32mindex.pyx:167\u001b[39m, in \u001b[36mpandas._libs.index.IndexEngine.get_loc\u001b[39m\u001b[34m()\u001b[39m\n",
      "\u001b[36mFile \u001b[39m\u001b[32mindex.pyx:196\u001b[39m, in \u001b[36mpandas._libs.index.IndexEngine.get_loc\u001b[39m\u001b[34m()\u001b[39m\n",
      "\u001b[36mFile \u001b[39m\u001b[32mpandas\\\\_libs\\\\hashtable_class_helper.pxi:7081\u001b[39m, in \u001b[36mpandas._libs.hashtable.PyObjectHashTable.get_item\u001b[39m\u001b[34m()\u001b[39m\n",
      "\u001b[36mFile \u001b[39m\u001b[32mpandas\\\\_libs\\\\hashtable_class_helper.pxi:7089\u001b[39m, in \u001b[36mpandas._libs.hashtable.PyObjectHashTable.get_item\u001b[39m\u001b[34m()\u001b[39m\n",
      "\u001b[31mKeyError\u001b[39m: 'anomaly_flag'",
      "\nThe above exception was the direct cause of the following exception:\n",
      "\u001b[31mKeyError\u001b[39m                                  Traceback (most recent call last)",
      "\u001b[36mCell\u001b[39m\u001b[36m \u001b[39m\u001b[32mIn[4]\u001b[39m\u001b[32m, line 12\u001b[39m\n\u001b[32m     10\u001b[39m \u001b[38;5;66;03m# Separate features and target\u001b[39;00m\n\u001b[32m     11\u001b[39m X = df[[\u001b[33m'\u001b[39m\u001b[33mpH\u001b[39m\u001b[33m'\u001b[39m, \u001b[33m'\u001b[39m\u001b[33mturbidity\u001b[39m\u001b[33m'\u001b[39m, \u001b[33m'\u001b[39m\u001b[33mtemperature\u001b[39m\u001b[33m'\u001b[39m, \u001b[33m'\u001b[39m\u001b[33mDO\u001b[39m\u001b[33m'\u001b[39m]]\n\u001b[32m---> \u001b[39m\u001b[32m12\u001b[39m y = \u001b[43mdf\u001b[49m\u001b[43m[\u001b[49m\u001b[33;43m'\u001b[39;49m\u001b[33;43manomaly_flag\u001b[39;49m\u001b[33;43m'\u001b[39;49m\u001b[43m]\u001b[49m\n\u001b[32m     14\u001b[39m \u001b[38;5;66;03m# Feature scaling (optional but improves performance)\u001b[39;00m\n\u001b[32m     15\u001b[39m scaler = StandardScaler()\n",
      "\u001b[36mFile \u001b[39m\u001b[32m~\\AppData\\Roaming\\Python\\Python313\\site-packages\\pandas\\core\\frame.py:4102\u001b[39m, in \u001b[36mDataFrame.__getitem__\u001b[39m\u001b[34m(self, key)\u001b[39m\n\u001b[32m   4100\u001b[39m \u001b[38;5;28;01mif\u001b[39;00m \u001b[38;5;28mself\u001b[39m.columns.nlevels > \u001b[32m1\u001b[39m:\n\u001b[32m   4101\u001b[39m     \u001b[38;5;28;01mreturn\u001b[39;00m \u001b[38;5;28mself\u001b[39m._getitem_multilevel(key)\n\u001b[32m-> \u001b[39m\u001b[32m4102\u001b[39m indexer = \u001b[38;5;28;43mself\u001b[39;49m\u001b[43m.\u001b[49m\u001b[43mcolumns\u001b[49m\u001b[43m.\u001b[49m\u001b[43mget_loc\u001b[49m\u001b[43m(\u001b[49m\u001b[43mkey\u001b[49m\u001b[43m)\u001b[49m\n\u001b[32m   4103\u001b[39m \u001b[38;5;28;01mif\u001b[39;00m is_integer(indexer):\n\u001b[32m   4104\u001b[39m     indexer = [indexer]\n",
      "\u001b[36mFile \u001b[39m\u001b[32m~\\AppData\\Roaming\\Python\\Python313\\site-packages\\pandas\\core\\indexes\\base.py:3812\u001b[39m, in \u001b[36mIndex.get_loc\u001b[39m\u001b[34m(self, key)\u001b[39m\n\u001b[32m   3807\u001b[39m     \u001b[38;5;28;01mif\u001b[39;00m \u001b[38;5;28misinstance\u001b[39m(casted_key, \u001b[38;5;28mslice\u001b[39m) \u001b[38;5;129;01mor\u001b[39;00m (\n\u001b[32m   3808\u001b[39m         \u001b[38;5;28misinstance\u001b[39m(casted_key, abc.Iterable)\n\u001b[32m   3809\u001b[39m         \u001b[38;5;129;01mand\u001b[39;00m \u001b[38;5;28many\u001b[39m(\u001b[38;5;28misinstance\u001b[39m(x, \u001b[38;5;28mslice\u001b[39m) \u001b[38;5;28;01mfor\u001b[39;00m x \u001b[38;5;129;01min\u001b[39;00m casted_key)\n\u001b[32m   3810\u001b[39m     ):\n\u001b[32m   3811\u001b[39m         \u001b[38;5;28;01mraise\u001b[39;00m InvalidIndexError(key)\n\u001b[32m-> \u001b[39m\u001b[32m3812\u001b[39m     \u001b[38;5;28;01mraise\u001b[39;00m \u001b[38;5;167;01mKeyError\u001b[39;00m(key) \u001b[38;5;28;01mfrom\u001b[39;00m\u001b[38;5;250m \u001b[39m\u001b[34;01merr\u001b[39;00m\n\u001b[32m   3813\u001b[39m \u001b[38;5;28;01mexcept\u001b[39;00m \u001b[38;5;167;01mTypeError\u001b[39;00m:\n\u001b[32m   3814\u001b[39m     \u001b[38;5;66;03m# If we have a listlike key, _check_indexing_error will raise\u001b[39;00m\n\u001b[32m   3815\u001b[39m     \u001b[38;5;66;03m#  InvalidIndexError. Otherwise we fall through and re-raise\u001b[39;00m\n\u001b[32m   3816\u001b[39m     \u001b[38;5;66;03m#  the TypeError.\u001b[39;00m\n\u001b[32m   3817\u001b[39m     \u001b[38;5;28mself\u001b[39m._check_indexing_error(key)\n",
      "\u001b[31mKeyError\u001b[39m: 'anomaly_flag'"
     ]
    }
   ],
   "source": [
    "import pandas as pd\n",
    "from sklearn.ensemble import RandomForestClassifier\n",
    "from sklearn.model_selection import train_test_split\n",
    "from sklearn.metrics import classification_report\n",
    "from sklearn.preprocessing import StandardScaler\n",
    "\n",
    "# Load the new dataset\n",
    "df = pd.read_csv(\"simulated_river_data_large.csv\")\n",
    "\n",
    "# Separate features and target\n",
    "X = df[['pH', 'turbidity', 'temperature', 'DO']]\n",
    "y = df['anomaly']\n",
    "\n",
    "# Feature scaling (optional but improves performance)\n",
    "scaler = StandardScaler()\n",
    "X_scaled = scaler.fit_transform(X)\n",
    "\n",
    "# Split the dataset\n",
    "X_train, X_test, y_train, y_test = train_test_split(\n",
    "    X_scaled, y, test_size=0.2, random_state=42\n",
    ")\n",
    "\n",
    "# Train the RandomForest model\n",
    "model = RandomForestClassifier(random_state=42)\n",
    "model.fit(X_train, y_train)\n",
    "\n",
    "# Evaluate the model\n",
    "y_pred = model.predict(X_test)\n",
    "print(\"Classification Report:\\n\")\n",
    "print(classification_report(y_test, y_pred))\n",
    "\n",
    "# Example: Prediction on new data\n",
    "new_data = [[6.5, 30.1, 22.3, 4.2]]  # pH, turbidity, temperature, DO\n",
    "new_data_scaled = scaler.transform(new_data)\n",
    "\n",
    "prediction = model.predict(new_data_scaled)\n",
    "print(\"Prediction for new data:\", \"Anomaly Detected!\" if prediction[0] == 1 else \"Normal\")"
   ]
  },
  {
   "cell_type": "code",
   "execution_count": 2,
   "id": "ee7fa05d",
   "metadata": {},
   "outputs": [
    {
     "name": "stdout",
     "output_type": "stream",
     "text": [
      "['pH', 'turbidity', 'temperature', 'DO', 'anomaly']\n"
     ]
    }
   ],
   "source": [
    "import pandas as pd\n",
    "\n",
    "df = pd.read_csv(\"simulated_river_data_large.csv\")\n",
    "print(df.columns.tolist())"
   ]
  },
  {
   "cell_type": "code",
   "execution_count": 5,
   "id": "c4bc409a",
   "metadata": {},
   "outputs": [
    {
     "name": "stdout",
     "output_type": "stream",
     "text": [
      "['pH', 'turbidity', 'temperature', 'DO', 'anomaly']\n"
     ]
    }
   ],
   "source": [
    "import pandas as pd\n",
    "\n",
    "df = pd.read_csv(\"simulated_river_data_large.csv\")\n",
    "print(df.columns.tolist())"
   ]
  },
  {
   "cell_type": "code",
   "execution_count": 6,
   "id": "c5ed6153",
   "metadata": {},
   "outputs": [],
   "source": [
    "X = df[['pH', 'turbidity', 'temperature', 'DO']]\n",
    "y = df['anomaly']"
   ]
  },
  {
   "cell_type": "code",
   "execution_count": 7,
   "id": "b024d02a",
   "metadata": {},
   "outputs": [
    {
     "name": "stdout",
     "output_type": "stream",
     "text": [
      "Classification Report:\n",
      "\n",
      "              precision    recall  f1-score   support\n",
      "\n",
      "           0       1.00      1.00      1.00        18\n",
      "           1       1.00      1.00      1.00         8\n",
      "\n",
      "    accuracy                           1.00        26\n",
      "   macro avg       1.00      1.00      1.00        26\n",
      "weighted avg       1.00      1.00      1.00        26\n",
      "\n",
      "Prediction for new data: Anomaly Detected!\n"
     ]
    },
    {
     "name": "stderr",
     "output_type": "stream",
     "text": [
      "C:\\Users\\ASUS\\AppData\\Roaming\\Python\\Python313\\site-packages\\sklearn\\utils\\validation.py:2739: UserWarning: X does not have valid feature names, but StandardScaler was fitted with feature names\n",
      "  warnings.warn(\n"
     ]
    }
   ],
   "source": [
    "import pandas as pd\n",
    "from sklearn.ensemble import RandomForestClassifier\n",
    "from sklearn.model_selection import train_test_split\n",
    "from sklearn.metrics import classification_report\n",
    "from sklearn.preprocessing import StandardScaler\n",
    "\n",
    "# Load the new dataset\n",
    "df = pd.read_csv(\"simulated_river_data_large.csv\")\n",
    "\n",
    "# Separate features and target\n",
    "X = df[['pH', 'turbidity', 'temperature', 'DO']]\n",
    "y = df['anomaly']\n",
    "\n",
    "# Feature scaling (optional but improves performance)\n",
    "scaler = StandardScaler()\n",
    "X_scaled = scaler.fit_transform(X)\n",
    "\n",
    "# Split the dataset\n",
    "X_train, X_test, y_train, y_test = train_test_split(\n",
    "    X_scaled, y, test_size=0.2, random_state=42\n",
    ")\n",
    "\n",
    "# Train the RandomForest model\n",
    "model = RandomForestClassifier(random_state=42)\n",
    "model.fit(X_train, y_train)\n",
    "\n",
    "# Evaluate the model\n",
    "y_pred = model.predict(X_test)\n",
    "print(\"Classification Report:\\n\")\n",
    "print(classification_report(y_test, y_pred))\n",
    "\n",
    "# Example: Prediction on new data\n",
    "new_data = [[6.5, 30.1, 22.3, 4.2]]  # pH, turbidity, temperature, DO\n",
    "new_data_scaled = scaler.transform(new_data)\n",
    "\n",
    "prediction = model.predict(new_data_scaled)\n",
    "print(\"Prediction for new data:\", \"Anomaly Detected!\" if prediction[0] == 1 else \"Normal\")"
   ]
  },
  {
   "cell_type": "code",
   "execution_count": 8,
   "id": "fe59cc24",
   "metadata": {},
   "outputs": [
    {
     "name": "stdout",
     "output_type": "stream",
     "text": [
      "🧪 Prediction for new data point:\n",
      "🔴 Anomaly Detected!\n"
     ]
    },
    {
     "name": "stderr",
     "output_type": "stream",
     "text": [
      "C:\\Users\\ASUS\\AppData\\Roaming\\Python\\Python313\\site-packages\\sklearn\\utils\\validation.py:2739: UserWarning: X does not have valid feature names, but StandardScaler was fitted with feature names\n",
      "  warnings.warn(\n"
     ]
    }
   ],
   "source": [
    "# Example new sensor reading: [pH, turbidity, temperature, DO]\n",
    "new_data = [[6.5, 30.1, 22.3, 4.2]]\n",
    "\n",
    "# Scale the new data using the same scaler used during training\n",
    "new_data_scaled = scaler.transform(new_data)\n",
    "\n",
    "# Predict with the trained model\n",
    "prediction = model.predict(new_data_scaled)\n",
    "\n",
    "# Print result\n",
    "print(\"🧪 Prediction for new data point:\")\n",
    "print(\"🔴 Anomaly Detected!\" if prediction[0] == 1 else \"🟢 Normal\")"
   ]
  },
  {
   "cell_type": "code",
   "execution_count": 9,
   "id": "9738a697",
   "metadata": {},
   "outputs": [
    {
     "data": {
      "text/plain": [
       "['scaler.pkl']"
      ]
     },
     "execution_count": 9,
     "metadata": {},
     "output_type": "execute_result"
    }
   ],
   "source": [
    "import joblib\n",
    "joblib.dump(model, \"river_anomaly_model.pkl\")\n",
    "joblib.dump(scaler, \"scaler.pkl\")"
   ]
  },
  {
   "cell_type": "code",
   "execution_count": 10,
   "id": "8049e8cf",
   "metadata": {},
   "outputs": [
    {
     "ename": "ModuleNotFoundError",
     "evalue": "No module named 'fastapi'",
     "output_type": "error",
     "traceback": [
      "\u001b[31m---------------------------------------------------------------------------\u001b[39m",
      "\u001b[31mModuleNotFoundError\u001b[39m                       Traceback (most recent call last)",
      "\u001b[36mCell\u001b[39m\u001b[36m \u001b[39m\u001b[32mIn[10]\u001b[39m\u001b[32m, line 1\u001b[39m\n\u001b[32m----> \u001b[39m\u001b[32m1\u001b[39m \u001b[38;5;28;01mfrom\u001b[39;00m\u001b[38;5;250m \u001b[39m\u001b[34;01mfastapi\u001b[39;00m\u001b[38;5;250m \u001b[39m\u001b[38;5;28;01mimport\u001b[39;00m FastAPI\n\u001b[32m      2\u001b[39m \u001b[38;5;28;01mfrom\u001b[39;00m\u001b[38;5;250m \u001b[39m\u001b[34;01mfastapi\u001b[39;00m\u001b[34;01m.\u001b[39;00m\u001b[34;01mmiddleware\u001b[39;00m\u001b[34;01m.\u001b[39;00m\u001b[34;01mcors\u001b[39;00m\u001b[38;5;250m \u001b[39m\u001b[38;5;28;01mimport\u001b[39;00m CORSMiddleware\n\u001b[32m      3\u001b[39m \u001b[38;5;28;01mimport\u001b[39;00m\u001b[38;5;250m \u001b[39m\u001b[34;01mpandas\u001b[39;00m\u001b[38;5;250m \u001b[39m\u001b[38;5;28;01mas\u001b[39;00m\u001b[38;5;250m \u001b[39m\u001b[34;01mpd\u001b[39;00m\n",
      "\u001b[31mModuleNotFoundError\u001b[39m: No module named 'fastapi'"
     ]
    }
   ],
   "source": [
    "from fastapi import FastAPI\n",
    "from fastapi.middleware.cors import CORSMiddleware\n",
    "import pandas as pd\n",
    "import numpy as np\n",
    "from datetime import datetime, timedelta\n",
    "import asyncio\n",
    "from sse_starlette.sse import EventSourceResponse\n",
    "\n",
    "app = FastAPI()\n",
    "\n",
    "# Enable CORS\n",
    "app.add_middleware(\n",
    "    CORSMiddleware,\n",
    "    allow_origins=[\"*\"],\n",
    "    allow_methods=[\"*\"],\n",
    "    allow_headers=[\"*\"],\n",
    ")\n",
    "\n",
    "# Mock database\n",
    "sensor_data = []\n",
    "\n",
    "@app.on_event(\"startup\")\n",
    "async def startup_event():\n",
    "    \"\"\"Generate initial mock data\"\"\"\n",
    "    global sensor_data\n",
    "    now = datetime.now()\n",
    "    for i in range(24):  # 24 hours of historical data\n",
    "        sensor_data.append({\n",
    "            \"timestamp\": (now - timedelta(hours=i)).isoformat(),\n",
    "            \"sensor_id\": 1,\n",
    "            \"ph\": 7.0 + 0.5 * np.sin(i/3),\n",
    "            \"nitrates\": 20 + 10 * np.sin(i/2),\n",
    "            \"turbidity\": 15 + 5 * np.random.rand()\n",
    "        })\n",
    "\n",
    "@app.get(\"/stream\")\n",
    "async def stream_data():\n",
    "    \"\"\"SSE endpoint for real-time updates\"\"\"\n",
    "    async def event_generator():\n",
    "        while True:\n",
    "            # Simulate new data every 2 seconds\n",
    "            new_data = {\n",
    "                \"timestamp\": datetime.now().isoformat(),\n",
    "                \"sensor_id\": 1,\n",
    "                \"ph\": 7.0 + 0.5 * np.sin(len(sensor_data)/3),\n",
    "                \"nitrates\": 20 + 10 * np.sin(len(sensor_data)/2),\n",
    "                \"turbidity\": 15 + 5 * np.random.rand()\n",
    "            }\n",
    "            sensor_data.append(new_data)\n",
    "            yield {\n",
    "                \"event\": \"update\",\n",
    "                \"data\": json.dumps(new_data)\n",
    "            }\n",
    "            await asyncio.sleep(2)\n",
    "    \n",
    "    return EventSourceResponse(event_generator())\n",
    "\n",
    "@app.get(\"/historical\")\n",
    "async def get_historical():\n",
    "    \"\"\"Get last 24 hours of data\"\"\"\n",
    "    return sensor_data[-24:]\n",
    "import streamlit as st\n",
    "import requests\n",
    "import pandas as pd\n",
    "import plotly.graph_objects as go\n",
    "from datetime import datetime\n",
    "import time\n",
    "import json\n",
    "\n",
    "# Config\n",
    "BACKEND_URL = \"http://localhost:8000\"\n",
    "UPDATE_INTERVAL = 2  # seconds\n",
    "\n",
    "# Initialize session state\n",
    "if \"data\" not in st.session_state:\n",
    "    st.session_state.data = pd.DataFrame()\n",
    "\n",
    "# Dashboard UI\n",
    "st.set_page_config(layout=\"wide\")\n",
    "st.title(\"🌊 Live River Monitoring Dashboard\")\n",
    "\n",
    "# Create placeholder containers\n",
    "chart_ph = st.empty()\n",
    "status_col1, status_col2, status_col3 = st.columns(3)\n",
    "\n",
    "def fetch_initial_data():\n",
    "    \"\"\"Get historical data\"\"\"\n",
    "    try:\n",
    "        response = requests.get(f\"{BACKEND_URL}/historical\")\n",
    "        return pd.DataFrame(response.json())\n",
    "    except:\n",
    "        return pd.DataFrame()\n",
    "\n",
    "def update_chart(df):\n",
    "    \"\"\"Update Plotly chart with live data\"\"\"\n",
    "    fig = go.Figure()\n",
    "    \n",
    "    # Add traces\n",
    "    fig.add_trace(go.Scatter(\n",
    "        x=df[\"timestamp\"],\n",
    "        y=df[\"ph\"],\n",
    "        name=\"pH\",\n",
    "        line=dict(color=\"royalblue\", width=2)\n",
    "    ))\n",
    "    \n",
    "    fig.add_trace(go.Scatter(\n",
    "        x=df[\"timestamp\"],\n",
    "        y=df[\"nitrates\"],\n",
    "        name=\"Nitrates (ppm)\",\n",
    "        yaxis=\"y2\",\n",
    "        line=dict(color=\"firebrick\", width=2)\n",
    "    ))\n",
    "    \n",
    "    fig.add_trace(go.Scatter(\n",
    "        x=df[\"timestamp\"],\n",
    "        y=df[\"turbidity\"],\n",
    "        name=\"Turbidity (NTU)\",\n",
    "        yaxis=\"y3\",\n",
    "        line=dict(color=\"green\", width=2)\n",
    "    ))\n",
    "    \n",
    "    # Layout\n",
    "    fig.update_layout(\n",
    "        title=\"Water Quality Parameters (Live)\",\n",
    "        xaxis_title=\"Time\",\n",
    "        yaxis=dict(title=\"pH\", side=\"left\"),\n",
    "        yaxis2=dict(title=\"Nitrates\", overlaying=\"y\", side=\"right\"),\n",
    "        yaxis3=dict(title=\"Turbidity\", overlaying=\"y\", side=\"right\", anchor=\"free\", position=0.85),\n",
    "        hovermode=\"x unified\",\n",
    "        height=500\n",
    "    )\n",
    "    \n",
    "    chart_ph.plotly_chart(fig, use_container_width=True)\n",
    "\n",
    "def update_status(df):\n",
    "    \"\"\"Update status metrics\"\"\"\n",
    "    if not df.empty:\n",
    "        latest = df.iloc[-1]\n",
    "        with status_col1:\n",
    "            st.metric(\"pH\", f\"{latest['ph']:.2f}\", delta=f\"{(latest['ph'] - df.iloc[-2]['ph']):.2f}\")\n",
    "        with status_col2:\n",
    "            st.metric(\"Nitrates\", f\"{latest['nitrates']:.1f} ppm\", delta=f\"{(latest['nitrates'] - df.iloc[-2]['nitrates']):.1f}\")\n",
    "        with status_col3:\n",
    "            st.metric(\"Turbidity\", f\"{latest['turbidity']:.1f} NTU\", delta=f\"{(latest['turbidity'] - df.iloc[-2]['turbidity']):.1f}\")\n",
    "\n",
    "# Initialize with historical data\n",
    "if st.session_state.data.empty:\n",
    "    st.session_state.data = fetch_initial_data()\n",
    "\n",
    "# Set up SSE connection for live updates\n",
    "if \"sse\" not in st.session_state:\n",
    "    st.session_state.sse = requests.get(f\"{BACKEND_URL}/stream\", stream=True)\n",
    "\n",
    "# Main loop\n",
    "while True:\n",
    "    try:\n",
    "        # Process SSE events\n",
    "        for line in st.session_state.sse.iter_lines():\n",
    "            if line.startswith(\"data:\"):\n",
    "                new_point = json.loads(line[5:])\n",
    "                new_df = pd.DataFrame([new_point[\"data\"]])\n",
    "                st.session_state.data = pd.concat([st.session_state.data, new_df]).tail(24)\n",
    "                \n",
    "                # Update UI\n",
    "                update_chart(st.session_state.data)\n",
    "                update_status(st.session_state.data)\n",
    "                \n",
    "    except:\n",
    "        st.error(\"Connection lost. Reconnecting...\")\n",
    "        st.session_state.sse = requests.get(f\"{BACKEND_URL}/stream\", stream=True)\n",
    "        time.sleep(1)"
   ]
  },
  {
   "cell_type": "code",
   "execution_count": 11,
   "id": "68c00a6b",
   "metadata": {},
   "outputs": [
    {
     "name": "stderr",
     "output_type": "stream",
     "text": [
      "C:\\Users\\ASUS\\AppData\\Local\\Temp\\ipykernel_2124\\3615844259.py:11: FutureWarning: 'H' is deprecated and will be removed in a future version, please use 'h' instead.\n",
      "  df['timestamp'] = pd.date_range(start='2025-01-01', periods=len(df), freq='H')\n",
      "C:\\Users\\ASUS\\AppData\\Local\\Temp\\ipykernel_2124\\3615844259.py:14: FutureWarning: DataFrame.fillna with 'method' is deprecated and will raise in a future version. Use obj.ffill() or obj.bfill() instead.\n",
      "  df = df.fillna(method='bfill').fillna(method='ffill')\n"
     ]
    },
    {
     "ename": "ModuleNotFoundError",
     "evalue": "No module named 'tensorflow'",
     "output_type": "error",
     "traceback": [
      "\u001b[31m---------------------------------------------------------------------------\u001b[39m",
      "\u001b[31mModuleNotFoundError\u001b[39m                       Traceback (most recent call last)",
      "\u001b[36mCell\u001b[39m\u001b[36m \u001b[39m\u001b[32mIn[11]\u001b[39m\u001b[32m, line 35\u001b[39m\n\u001b[32m     32\u001b[39m X_train, X_test, y_train, y_test = train_test_split(X, y, test_size=\u001b[32m0.2\u001b[39m, random_state=\u001b[32m42\u001b[39m)\n\u001b[32m     34\u001b[39m \u001b[38;5;66;03m# Build the LSTM\u001b[39;00m\n\u001b[32m---> \u001b[39m\u001b[32m35\u001b[39m \u001b[38;5;28;01mfrom\u001b[39;00m\u001b[38;5;250m \u001b[39m\u001b[34;01mtensorflow\u001b[39;00m\u001b[34;01m.\u001b[39;00m\u001b[34;01mkeras\u001b[39;00m\u001b[34;01m.\u001b[39;00m\u001b[34;01mmodels\u001b[39;00m\u001b[38;5;250m \u001b[39m\u001b[38;5;28;01mimport\u001b[39;00m Sequential\n\u001b[32m     36\u001b[39m \u001b[38;5;28;01mfrom\u001b[39;00m\u001b[38;5;250m \u001b[39m\u001b[34;01mtensorflow\u001b[39;00m\u001b[34;01m.\u001b[39;00m\u001b[34;01mkeras\u001b[39;00m\u001b[34;01m.\u001b[39;00m\u001b[34;01mlayers\u001b[39;00m\u001b[38;5;250m \u001b[39m\u001b[38;5;28;01mimport\u001b[39;00m LSTM, Dense, Dropout\n\u001b[32m     37\u001b[39m \u001b[38;5;28;01mfrom\u001b[39;00m\u001b[38;5;250m \u001b[39m\u001b[34;01mtensorflow\u001b[39;00m\u001b[34;01m.\u001b[39;00m\u001b[34;01mkeras\u001b[39;00m\u001b[34;01m.\u001b[39;00m\u001b[34;01moptimizers\u001b[39;00m\u001b[38;5;250m \u001b[39m\u001b[38;5;28;01mimport\u001b[39;00m Adam\n",
      "\u001b[31mModuleNotFoundError\u001b[39m: No module named 'tensorflow'"
     ]
    }
   ],
   "source": [
    "import pandas as pd\n",
    "import numpy as np\n",
    "from sklearn.preprocessing import MinMaxScaler\n",
    "from sklearn.model_selection import train_test_split\n",
    "from sklearn.metrics import classification_report\n",
    "\n",
    "# Load your CSV\n",
    "df = pd.read_csv(\"simulated_river_data_large.csv\")\n",
    "\n",
    "# Add a timestamp column\n",
    "df['timestamp'] = pd.date_range(start='2025-01-01', periods=len(df), freq='H')\n",
    "\n",
    "# Fill missing\n",
    "df = df.fillna(method='bfill').fillna(method='ffill')\n",
    "\n",
    "# Normalize features\n",
    "features = ['pH', 'turbidity', 'temperature', 'DO']\n",
    "scaler = MinMaxScaler()\n",
    "df[features] = scaler.fit_transform(df[features])\n",
    "\n",
    "# Create sequences\n",
    "sequence_length = 10\n",
    "X, y = [], []\n",
    "for i in range(sequence_length, len(df)):\n",
    "    X.append(df[features].iloc[i-sequence_length:i].values)\n",
    "    y.append(df['anomaly'].iloc[i])\n",
    "\n",
    "X = np.array(X)\n",
    "y = np.array(y)\n",
    "\n",
    "# Train-test split\n",
    "X_train, X_test, y_train, y_test = train_test_split(X, y, test_size=0.2, random_state=42)\n",
    "\n",
    "# Build the LSTM\n",
    "from tensorflow.keras.models import Sequential\n",
    "from tensorflow.keras.layers import LSTM, Dense, Dropout\n",
    "from tensorflow.keras.optimizers import Adam\n",
    "from tensorflow.keras.callbacks import EarlyStopping\n",
    "\n",
    "model = Sequential([\n",
    "    LSTM(64, input_shape=(X_train.shape[1], X_train.shape[2])),\n",
    "    Dropout(0.3),\n",
    "    Dense(32, activation='relu'),\n",
    "    Dense(1, activation='sigmoid')\n",
    "])\n",
    "\n",
    "model.compile(optimizer=Adam(0.001), loss='binary_crossentropy', metrics=['accuracy'])\n",
    "\n",
    "# Train\n",
    "model.fit(X_train, y_train, epochs=30, batch_size=16,\n",
    "          validation_data=(X_test, y_test),\n",
    "          callbacks=[EarlyStopping(patience=5, restore_best_weights=True)],\n",
    "          verbose=1)\n",
    "\n",
    "# Evaluate\n",
    "y_pred = (model.predict(X_test) > 0.5).astype(\"int32\")\n",
    "print(classification_report(y_test, y_pred))"
   ]
  },
  {
   "cell_type": "code",
   "execution_count": 12,
   "id": "675bd08e",
   "metadata": {},
   "outputs": [
    {
     "name": "stdout",
     "output_type": "stream",
     "text": [
      "Defaulting to user installation because normal site-packages is not writeable\n",
      "Note: you may need to restart the kernel to use updated packages.\n"
     ]
    },
    {
     "name": "stderr",
     "output_type": "stream",
     "text": [
      "ERROR: Could not find a version that satisfies the requirement tensorflow (from versions: none)\n",
      "\n",
      "[notice] A new release of pip is available: 24.3.1 -> 25.1.1\n",
      "[notice] To update, run: python.exe -m pip install --upgrade pip\n",
      "ERROR: No matching distribution found for tensorflow\n"
     ]
    }
   ],
   "source": [
    "%pip install tensorflow"
   ]
  },
  {
   "cell_type": "code",
   "execution_count": 13,
   "id": "84d03c00",
   "metadata": {},
   "outputs": [
    {
     "name": "stderr",
     "output_type": "stream",
     "text": [
      "C:\\Users\\ASUS\\AppData\\Local\\Temp\\ipykernel_2124\\3615844259.py:11: FutureWarning: 'H' is deprecated and will be removed in a future version, please use 'h' instead.\n",
      "  df['timestamp'] = pd.date_range(start='2025-01-01', periods=len(df), freq='H')\n",
      "C:\\Users\\ASUS\\AppData\\Local\\Temp\\ipykernel_2124\\3615844259.py:14: FutureWarning: DataFrame.fillna with 'method' is deprecated and will raise in a future version. Use obj.ffill() or obj.bfill() instead.\n",
      "  df = df.fillna(method='bfill').fillna(method='ffill')\n"
     ]
    },
    {
     "ename": "ModuleNotFoundError",
     "evalue": "No module named 'tensorflow'",
     "output_type": "error",
     "traceback": [
      "\u001b[31m---------------------------------------------------------------------------\u001b[39m",
      "\u001b[31mModuleNotFoundError\u001b[39m                       Traceback (most recent call last)",
      "\u001b[36mCell\u001b[39m\u001b[36m \u001b[39m\u001b[32mIn[13]\u001b[39m\u001b[32m, line 35\u001b[39m\n\u001b[32m     32\u001b[39m X_train, X_test, y_train, y_test = train_test_split(X, y, test_size=\u001b[32m0.2\u001b[39m, random_state=\u001b[32m42\u001b[39m)\n\u001b[32m     34\u001b[39m \u001b[38;5;66;03m# Build the LSTM\u001b[39;00m\n\u001b[32m---> \u001b[39m\u001b[32m35\u001b[39m \u001b[38;5;28;01mfrom\u001b[39;00m\u001b[38;5;250m \u001b[39m\u001b[34;01mtensorflow\u001b[39;00m\u001b[34;01m.\u001b[39;00m\u001b[34;01mkeras\u001b[39;00m\u001b[34;01m.\u001b[39;00m\u001b[34;01mmodels\u001b[39;00m\u001b[38;5;250m \u001b[39m\u001b[38;5;28;01mimport\u001b[39;00m Sequential\n\u001b[32m     36\u001b[39m \u001b[38;5;28;01mfrom\u001b[39;00m\u001b[38;5;250m \u001b[39m\u001b[34;01mtensorflow\u001b[39;00m\u001b[34;01m.\u001b[39;00m\u001b[34;01mkeras\u001b[39;00m\u001b[34;01m.\u001b[39;00m\u001b[34;01mlayers\u001b[39;00m\u001b[38;5;250m \u001b[39m\u001b[38;5;28;01mimport\u001b[39;00m LSTM, Dense, Dropout\n\u001b[32m     37\u001b[39m \u001b[38;5;28;01mfrom\u001b[39;00m\u001b[38;5;250m \u001b[39m\u001b[34;01mtensorflow\u001b[39;00m\u001b[34;01m.\u001b[39;00m\u001b[34;01mkeras\u001b[39;00m\u001b[34;01m.\u001b[39;00m\u001b[34;01moptimizers\u001b[39;00m\u001b[38;5;250m \u001b[39m\u001b[38;5;28;01mimport\u001b[39;00m Adam\n",
      "\u001b[31mModuleNotFoundError\u001b[39m: No module named 'tensorflow'"
     ]
    }
   ],
   "source": [
    "import pandas as pd\n",
    "import numpy as np\n",
    "from sklearn.preprocessing import MinMaxScaler\n",
    "from sklearn.model_selection import train_test_split\n",
    "from sklearn.metrics import classification_report\n",
    "\n",
    "# Load your CSV\n",
    "df = pd.read_csv(\"simulated_river_data_large.csv\")\n",
    "\n",
    "# Add a timestamp column\n",
    "df['timestamp'] = pd.date_range(start='2025-01-01', periods=len(df), freq='H')\n",
    "\n",
    "# Fill missing\n",
    "df = df.fillna(method='bfill').fillna(method='ffill')\n",
    "\n",
    "# Normalize features\n",
    "features = ['pH', 'turbidity', 'temperature', 'DO']\n",
    "scaler = MinMaxScaler()\n",
    "df[features] = scaler.fit_transform(df[features])\n",
    "\n",
    "# Create sequences\n",
    "sequence_length = 10\n",
    "X, y = [], []\n",
    "for i in range(sequence_length, len(df)):\n",
    "    X.append(df[features].iloc[i-sequence_length:i].values)\n",
    "    y.append(df['anomaly'].iloc[i])\n",
    "\n",
    "X = np.array(X)\n",
    "y = np.array(y)\n",
    "\n",
    "# Train-test split\n",
    "X_train, X_test, y_train, y_test = train_test_split(X, y, test_size=0.2, random_state=42)\n",
    "\n",
    "# Build the LSTM\n",
    "from tensorflow.keras.models import Sequential\n",
    "from tensorflow.keras.layers import LSTM, Dense, Dropout\n",
    "from tensorflow.keras.optimizers import Adam\n",
    "from tensorflow.keras.callbacks import EarlyStopping\n",
    "\n",
    "model = Sequential([\n",
    "    LSTM(64, input_shape=(X_train.shape[1], X_train.shape[2])),\n",
    "    Dropout(0.3),\n",
    "    Dense(32, activation='relu'),\n",
    "    Dense(1, activation='sigmoid')\n",
    "])\n",
    "\n",
    "model.compile(optimizer=Adam(0.001), loss='binary_crossentropy', metrics=['accuracy'])\n",
    "\n",
    "# Train\n",
    "model.fit(X_train, y_train, epochs=30, batch_size=16,\n",
    "          validation_data=(X_test, y_test),\n",
    "          callbacks=[EarlyStopping(patience=5, restore_best_weights=True)],\n",
    "          verbose=1)\n",
    "\n",
    "# Evaluate\n",
    "y_pred = (model.predict(X_test) > 0.5).astype(\"int32\")\n",
    "print(classification_report(y_test, y_pred))"
   ]
  },
  {
   "cell_type": "code",
   "execution_count": 14,
   "id": "2dfc1ec3",
   "metadata": {},
   "outputs": [
    {
     "name": "stderr",
     "output_type": "stream",
     "text": [
      "C:\\Users\\ASUS\\AppData\\Local\\Temp\\ipykernel_2124\\3615844259.py:11: FutureWarning: 'H' is deprecated and will be removed in a future version, please use 'h' instead.\n",
      "  df['timestamp'] = pd.date_range(start='2025-01-01', periods=len(df), freq='H')\n",
      "C:\\Users\\ASUS\\AppData\\Local\\Temp\\ipykernel_2124\\3615844259.py:14: FutureWarning: DataFrame.fillna with 'method' is deprecated and will raise in a future version. Use obj.ffill() or obj.bfill() instead.\n",
      "  df = df.fillna(method='bfill').fillna(method='ffill')\n"
     ]
    },
    {
     "ename": "ModuleNotFoundError",
     "evalue": "No module named 'tensorflow'",
     "output_type": "error",
     "traceback": [
      "\u001b[31m---------------------------------------------------------------------------\u001b[39m",
      "\u001b[31mModuleNotFoundError\u001b[39m                       Traceback (most recent call last)",
      "\u001b[36mCell\u001b[39m\u001b[36m \u001b[39m\u001b[32mIn[14]\u001b[39m\u001b[32m, line 35\u001b[39m\n\u001b[32m     32\u001b[39m X_train, X_test, y_train, y_test = train_test_split(X, y, test_size=\u001b[32m0.2\u001b[39m, random_state=\u001b[32m42\u001b[39m)\n\u001b[32m     34\u001b[39m \u001b[38;5;66;03m# Build the LSTM\u001b[39;00m\n\u001b[32m---> \u001b[39m\u001b[32m35\u001b[39m \u001b[38;5;28;01mfrom\u001b[39;00m\u001b[38;5;250m \u001b[39m\u001b[34;01mtensorflow\u001b[39;00m\u001b[34;01m.\u001b[39;00m\u001b[34;01mkeras\u001b[39;00m\u001b[34;01m.\u001b[39;00m\u001b[34;01mmodels\u001b[39;00m\u001b[38;5;250m \u001b[39m\u001b[38;5;28;01mimport\u001b[39;00m Sequential\n\u001b[32m     36\u001b[39m \u001b[38;5;28;01mfrom\u001b[39;00m\u001b[38;5;250m \u001b[39m\u001b[34;01mtensorflow\u001b[39;00m\u001b[34;01m.\u001b[39;00m\u001b[34;01mkeras\u001b[39;00m\u001b[34;01m.\u001b[39;00m\u001b[34;01mlayers\u001b[39;00m\u001b[38;5;250m \u001b[39m\u001b[38;5;28;01mimport\u001b[39;00m LSTM, Dense, Dropout\n\u001b[32m     37\u001b[39m \u001b[38;5;28;01mfrom\u001b[39;00m\u001b[38;5;250m \u001b[39m\u001b[34;01mtensorflow\u001b[39;00m\u001b[34;01m.\u001b[39;00m\u001b[34;01mkeras\u001b[39;00m\u001b[34;01m.\u001b[39;00m\u001b[34;01moptimizers\u001b[39;00m\u001b[38;5;250m \u001b[39m\u001b[38;5;28;01mimport\u001b[39;00m Adam\n",
      "\u001b[31mModuleNotFoundError\u001b[39m: No module named 'tensorflow'"
     ]
    }
   ],
   "source": [
    "import pandas as pd\n",
    "import numpy as np\n",
    "from sklearn.preprocessing import MinMaxScaler\n",
    "from sklearn.model_selection import train_test_split\n",
    "from sklearn.metrics import classification_report\n",
    "\n",
    "# Load your CSV\n",
    "df = pd.read_csv(\"simulated_river_data_large.csv\")\n",
    "\n",
    "# Add a timestamp column\n",
    "df['timestamp'] = pd.date_range(start='2025-01-01', periods=len(df), freq='H')\n",
    "\n",
    "# Fill missing\n",
    "df = df.fillna(method='bfill').fillna(method='ffill')\n",
    "\n",
    "# Normalize features\n",
    "features = ['pH', 'turbidity', 'temperature', 'DO']\n",
    "scaler = MinMaxScaler()\n",
    "df[features] = scaler.fit_transform(df[features])\n",
    "\n",
    "# Create sequences\n",
    "sequence_length = 10\n",
    "X, y = [], []\n",
    "for i in range(sequence_length, len(df)):\n",
    "    X.append(df[features].iloc[i-sequence_length:i].values)\n",
    "    y.append(df['anomaly'].iloc[i])\n",
    "\n",
    "X = np.array(X)\n",
    "y = np.array(y)\n",
    "\n",
    "# Train-test split\n",
    "X_train, X_test, y_train, y_test = train_test_split(X, y, test_size=0.2, random_state=42)\n",
    "\n",
    "# Build the LSTM\n",
    "from tensorflow.keras.models import Sequential\n",
    "from tensorflow.keras.layers import LSTM, Dense, Dropout\n",
    "from tensorflow.keras.optimizers import Adam\n",
    "from tensorflow.keras.callbacks import EarlyStopping\n",
    "\n",
    "model = Sequential([\n",
    "    LSTM(64, input_shape=(X_train.shape[1], X_train.shape[2])),\n",
    "    Dropout(0.3),\n",
    "    Dense(32, activation='relu'),\n",
    "    Dense(1, activation='sigmoid')\n",
    "])\n",
    "\n",
    "model.compile(optimizer=Adam(0.001), loss='binary_crossentropy', metrics=['accuracy'])\n",
    "\n",
    "# Train\n",
    "model.fit(X_train, y_train, epochs=30, batch_size=16,\n",
    "          validation_data=(X_test, y_test),\n",
    "          callbacks=[EarlyStopping(patience=5, restore_best_weights=True)],\n",
    "          verbose=1)\n",
    "\n",
    "# Evaluate\n",
    "y_pred = (model.predict(X_test) > 0.5).astype(\"int32\")\n",
    "print(classification_report(y_test, y_pred))"
   ]
  },
  {
   "cell_type": "code",
   "execution_count": 15,
   "id": "cf0aea04",
   "metadata": {},
   "outputs": [
    {
     "ename": "ModuleNotFoundError",
     "evalue": "No module named 'tensorflow'",
     "output_type": "error",
     "traceback": [
      "\u001b[31m---------------------------------------------------------------------------\u001b[39m",
      "\u001b[31mModuleNotFoundError\u001b[39m                       Traceback (most recent call last)",
      "\u001b[36mCell\u001b[39m\u001b[36m \u001b[39m\u001b[32mIn[15]\u001b[39m\u001b[32m, line 1\u001b[39m\n\u001b[32m----> \u001b[39m\u001b[32m1\u001b[39m \u001b[38;5;28;01mimport\u001b[39;00m\u001b[38;5;250m \u001b[39m\u001b[34;01mtensorflow\u001b[39;00m\u001b[38;5;250m \u001b[39m\u001b[38;5;28;01mas\u001b[39;00m\u001b[38;5;250m \u001b[39m\u001b[34;01mtf\u001b[39;00m\n\u001b[32m      2\u001b[39m \u001b[38;5;28mprint\u001b[39m(tf._version_)\n",
      "\u001b[31mModuleNotFoundError\u001b[39m: No module named 'tensorflow'"
     ]
    }
   ],
   "source": [
    "import tensorflow as tf\n",
    "print(tf._version_)"
   ]
  },
  {
   "cell_type": "code",
   "execution_count": 16,
   "id": "ae54c5fa",
   "metadata": {},
   "outputs": [
    {
     "name": "stderr",
     "output_type": "stream",
     "text": [
      "'{sys.executable}' is not recognized as an internal or external command,\n",
      "operable program or batch file.\n"
     ]
    }
   ],
   "source": [
    "!{sys.executable} -m pip install tensorflow"
   ]
  },
  {
   "cell_type": "code",
   "execution_count": 17,
   "id": "04b41ebf",
   "metadata": {},
   "outputs": [
    {
     "name": "stdout",
     "output_type": "stream",
     "text": [
      "Defaulting to user installation because normal site-packages is not writeable\n"
     ]
    },
    {
     "name": "stderr",
     "output_type": "stream",
     "text": [
      "ERROR: Could not find a version that satisfies the requirement tensorflow (from versions: none)\n",
      "\n",
      "[notice] A new release of pip is available: 24.3.1 -> 25.1.1\n",
      "[notice] To update, run: python.exe -m pip install --upgrade pip\n",
      "ERROR: No matching distribution found for tensorflow\n"
     ]
    }
   ],
   "source": [
    "import sys\n",
    "!{sys.executable} -m pip install tensorflow"
   ]
  },
  {
   "cell_type": "code",
   "execution_count": 18,
   "id": "cb2fcf09",
   "metadata": {},
   "outputs": [
    {
     "ename": "ModuleNotFoundError",
     "evalue": "No module named 'fastapi'",
     "output_type": "error",
     "traceback": [
      "\u001b[31m---------------------------------------------------------------------------\u001b[39m",
      "\u001b[31mModuleNotFoundError\u001b[39m                       Traceback (most recent call last)",
      "\u001b[36mCell\u001b[39m\u001b[36m \u001b[39m\u001b[32mIn[18]\u001b[39m\u001b[32m, line 1\u001b[39m\n\u001b[32m----> \u001b[39m\u001b[32m1\u001b[39m \u001b[38;5;28;01mfrom\u001b[39;00m\u001b[38;5;250m \u001b[39m\u001b[34;01mfastapi\u001b[39;00m\u001b[38;5;250m \u001b[39m\u001b[38;5;28;01mimport\u001b[39;00m FastAPI\n\u001b[32m      2\u001b[39m \u001b[38;5;28;01mfrom\u001b[39;00m\u001b[38;5;250m \u001b[39m\u001b[34;01mfastapi\u001b[39;00m\u001b[34;01m.\u001b[39;00m\u001b[34;01mmiddleware\u001b[39;00m\u001b[34;01m.\u001b[39;00m\u001b[34;01mcors\u001b[39;00m\u001b[38;5;250m \u001b[39m\u001b[38;5;28;01mimport\u001b[39;00m CORSMiddleware\n\u001b[32m      3\u001b[39m \u001b[38;5;28;01mimport\u001b[39;00m\u001b[38;5;250m \u001b[39m\u001b[34;01mpandas\u001b[39;00m\u001b[38;5;250m \u001b[39m\u001b[38;5;28;01mas\u001b[39;00m\u001b[38;5;250m \u001b[39m\u001b[34;01mpd\u001b[39;00m\n",
      "\u001b[31mModuleNotFoundError\u001b[39m: No module named 'fastapi'"
     ]
    }
   ],
   "source": [
    "from fastapi import FastAPI\n",
    "from fastapi.middleware.cors import CORSMiddleware\n",
    "import pandas as pd\n",
    "import numpy as np\n",
    "from datetime import datetime, timedelta\n",
    "import asyncio\n",
    "from sse_starlette.sse import EventSourceResponse\n",
    "\n",
    "app = FastAPI()\n",
    "\n",
    "# Enable CORS\n",
    "app.add_middleware(\n",
    "    CORSMiddleware,\n",
    "    allow_origins=[\"*\"],\n",
    "    allow_methods=[\"*\"],\n",
    "    allow_headers=[\"*\"],\n",
    ")\n",
    "\n",
    "# Mock database\n",
    "sensor_data = []\n",
    "\n",
    "@app.on_event(\"startup\")\n",
    "async def startup_event():\n",
    "    \"\"\"Generate initial mock data\"\"\"\n",
    "    global sensor_data\n",
    "    now = datetime.now()\n",
    "    for i in range(24):  # 24 hours of historical data\n",
    "        sensor_data.append({\n",
    "            \"timestamp\": (now - timedelta(hours=i)).isoformat(),\n",
    "            \"sensor_id\": 1,\n",
    "            \"ph\": 7.0 + 0.5 * np.sin(i/3),\n",
    "            \"nitrates\": 20 + 10 * np.sin(i/2),\n",
    "            \"turbidity\": 15 + 5 * np.random.rand()\n",
    "        })\n",
    "\n",
    "@app.get(\"/stream\")\n",
    "async def stream_data():\n",
    "    \"\"\"SSE endpoint for real-time updates\"\"\"\n",
    "    async def event_generator():\n",
    "        while True:\n",
    "            # Simulate new data every 2 seconds\n",
    "            new_data = {\n",
    "                \"timestamp\": datetime.now().isoformat(),\n",
    "                \"sensor_id\": 1,\n",
    "                \"ph\": 7.0 + 0.5 * np.sin(len(sensor_data)/3),\n",
    "                \"nitrates\": 20 + 10 * np.sin(len(sensor_data)/2),\n",
    "                \"turbidity\": 15 + 5 * np.random.rand()\n",
    "            }\n",
    "            sensor_data.append(new_data)\n",
    "            yield {\n",
    "                \"event\": \"update\",\n",
    "                \"data\": json.dumps(new_data)\n",
    "            }\n",
    "            await asyncio.sleep(2)\n",
    "    \n",
    "    return EventSourceResponse(event_generator())\n",
    "\n",
    "@app.get(\"/historical\")\n",
    "async def get_historical():\n",
    "    \"\"\"Get last 24 hours of data\"\"\"\n",
    "    return sensor_data[-24:]\n",
    "import streamlit as st\n",
    "import requests\n",
    "import pandas as pd\n",
    "import plotly.graph_objects as go\n",
    "from datetime import datetime\n",
    "import time\n",
    "import json\n",
    "\n",
    "# Config\n",
    "BACKEND_URL = \"http://localhost:8000\"\n",
    "UPDATE_INTERVAL = 2  # seconds\n",
    "\n",
    "# Initialize session state\n",
    "if \"data\" not in st.session_state:\n",
    "    st.session_state.data = pd.DataFrame()\n",
    "\n",
    "# Dashboard UI\n",
    "st.set_page_config(layout=\"wide\")\n",
    "st.title(\"🌊 Live River Monitoring Dashboard\")\n",
    "\n",
    "# Create placeholder containers\n",
    "chart_ph = st.empty()\n",
    "status_col1, status_col2, status_col3 = st.columns(3)\n",
    "\n",
    "def fetch_initial_data():\n",
    "    \"\"\"Get historical data\"\"\"\n",
    "    try:\n",
    "        response = requests.get(f\"{BACKEND_URL}/historical\")\n",
    "        return pd.DataFrame(response.json())\n",
    "    except:\n",
    "        return pd.DataFrame()\n",
    "\n",
    "def update_chart(df):\n",
    "    \"\"\"Update Plotly chart with live data\"\"\"\n",
    "    fig = go.Figure()\n",
    "    \n",
    "    # Add traces\n",
    "    fig.add_trace(go.Scatter(\n",
    "        x=df[\"timestamp\"],\n",
    "        y=df[\"ph\"],\n",
    "        name=\"pH\",\n",
    "        line=dict(color=\"royalblue\", width=2)\n",
    "    ))\n",
    "    \n",
    "    fig.add_trace(go.Scatter(\n",
    "        x=df[\"timestamp\"],\n",
    "        y=df[\"nitrates\"],\n",
    "        name=\"Nitrates (ppm)\",\n",
    "        yaxis=\"y2\",\n",
    "        line=dict(color=\"firebrick\", width=2)\n",
    "    ))\n",
    "    \n",
    "    fig.add_trace(go.Scatter(\n",
    "        x=df[\"timestamp\"],\n",
    "        y=df[\"turbidity\"],\n",
    "        name=\"Turbidity (NTU)\",\n",
    "        yaxis=\"y3\",\n",
    "        line=dict(color=\"green\", width=2)\n",
    "    ))\n",
    "    \n",
    "    # Layout\n",
    "    fig.update_layout(\n",
    "        title=\"Water Quality Parameters (Live)\",\n",
    "        xaxis_title=\"Time\",\n",
    "        yaxis=dict(title=\"pH\", side=\"left\"),\n",
    "        yaxis2=dict(title=\"Nitrates\", overlaying=\"y\", side=\"right\"),\n",
    "        yaxis3=dict(title=\"Turbidity\", overlaying=\"y\", side=\"right\", anchor=\"free\", position=0.85),\n",
    "        hovermode=\"x unified\",\n",
    "        height=500\n",
    "    )\n",
    "    \n",
    "    chart_ph.plotly_chart(fig, use_container_width=True)\n",
    "\n",
    "def update_status(df):\n",
    "    \"\"\"Update status metrics\"\"\"\n",
    "    if not df.empty:\n",
    "        latest = df.iloc[-1]\n",
    "        with status_col1:\n",
    "            st.metric(\"pH\", f\"{latest['ph']:.2f}\", delta=f\"{(latest['ph'] - df.iloc[-2]['ph']):.2f}\")\n",
    "        with status_col2:\n",
    "            st.metric(\"Nitrates\", f\"{latest['nitrates']:.1f} ppm\", delta=f\"{(latest['nitrates'] - df.iloc[-2]['nitrates']):.1f}\")\n",
    "        with status_col3:\n",
    "            st.metric(\"Turbidity\", f\"{latest['turbidity']:.1f} NTU\", delta=f\"{(latest['turbidity'] - df.iloc[-2]['turbidity']):.1f}\")\n",
    "\n",
    "# Initialize with historical data\n",
    "if st.session_state.data.empty:\n",
    "    st.session_state.data = fetch_initial_data()\n",
    "\n",
    "# Set up SSE connection for live updates\n",
    "if \"sse\" not in st.session_state:\n",
    "    st.session_state.sse = requests.get(f\"{BACKEND_URL}/stream\", stream=True)\n",
    "\n",
    "# Main loop\n",
    "while True:\n",
    "    try:\n",
    "        # Process SSE events\n",
    "        for line in st.session_state.sse.iter_lines():\n",
    "            if line.startswith(\"data:\"):\n",
    "                new_point = json.loads(line[5:])\n",
    "                new_df = pd.DataFrame([new_point[\"data\"]])\n",
    "                st.session_state.data = pd.concat([st.session_state.data, new_df]).tail(24)\n",
    "                \n",
    "                # Update UI\n",
    "                update_chart(st.session_state.data)\n",
    "                update_status(st.session_state.data)\n",
    "                \n",
    "    except:\n",
    "        st.error(\"Connection lost. Reconnecting...\")\n",
    "        st.session_state.sse = requests.get(f\"{BACKEND_URL}/stream\", stream=True)\n",
    "        time.sleep(1)"
   ]
  },
  {
   "cell_type": "code",
   "execution_count": 19,
   "id": "84936ed3",
   "metadata": {},
   "outputs": [
    {
     "name": "stderr",
     "output_type": "stream",
     "text": [
      "C:\\Users\\ASUS\\AppData\\Local\\Temp\\ipykernel_2124\\3615844259.py:11: FutureWarning: 'H' is deprecated and will be removed in a future version, please use 'h' instead.\n",
      "  df['timestamp'] = pd.date_range(start='2025-01-01', periods=len(df), freq='H')\n",
      "C:\\Users\\ASUS\\AppData\\Local\\Temp\\ipykernel_2124\\3615844259.py:14: FutureWarning: DataFrame.fillna with 'method' is deprecated and will raise in a future version. Use obj.ffill() or obj.bfill() instead.\n",
      "  df = df.fillna(method='bfill').fillna(method='ffill')\n"
     ]
    },
    {
     "ename": "ModuleNotFoundError",
     "evalue": "No module named 'tensorflow'",
     "output_type": "error",
     "traceback": [
      "\u001b[31m---------------------------------------------------------------------------\u001b[39m",
      "\u001b[31mModuleNotFoundError\u001b[39m                       Traceback (most recent call last)",
      "\u001b[36mCell\u001b[39m\u001b[36m \u001b[39m\u001b[32mIn[19]\u001b[39m\u001b[32m, line 35\u001b[39m\n\u001b[32m     32\u001b[39m X_train, X_test, y_train, y_test = train_test_split(X, y, test_size=\u001b[32m0.2\u001b[39m, random_state=\u001b[32m42\u001b[39m)\n\u001b[32m     34\u001b[39m \u001b[38;5;66;03m# Build the LSTM\u001b[39;00m\n\u001b[32m---> \u001b[39m\u001b[32m35\u001b[39m \u001b[38;5;28;01mfrom\u001b[39;00m\u001b[38;5;250m \u001b[39m\u001b[34;01mtensorflow\u001b[39;00m\u001b[34;01m.\u001b[39;00m\u001b[34;01mkeras\u001b[39;00m\u001b[34;01m.\u001b[39;00m\u001b[34;01mmodels\u001b[39;00m\u001b[38;5;250m \u001b[39m\u001b[38;5;28;01mimport\u001b[39;00m Sequential\n\u001b[32m     36\u001b[39m \u001b[38;5;28;01mfrom\u001b[39;00m\u001b[38;5;250m \u001b[39m\u001b[34;01mtensorflow\u001b[39;00m\u001b[34;01m.\u001b[39;00m\u001b[34;01mkeras\u001b[39;00m\u001b[34;01m.\u001b[39;00m\u001b[34;01mlayers\u001b[39;00m\u001b[38;5;250m \u001b[39m\u001b[38;5;28;01mimport\u001b[39;00m LSTM, Dense, Dropout\n\u001b[32m     37\u001b[39m \u001b[38;5;28;01mfrom\u001b[39;00m\u001b[38;5;250m \u001b[39m\u001b[34;01mtensorflow\u001b[39;00m\u001b[34;01m.\u001b[39;00m\u001b[34;01mkeras\u001b[39;00m\u001b[34;01m.\u001b[39;00m\u001b[34;01moptimizers\u001b[39;00m\u001b[38;5;250m \u001b[39m\u001b[38;5;28;01mimport\u001b[39;00m Adam\n",
      "\u001b[31mModuleNotFoundError\u001b[39m: No module named 'tensorflow'"
     ]
    }
   ],
   "source": [
    "import pandas as pd\n",
    "import numpy as np\n",
    "from sklearn.preprocessing import MinMaxScaler\n",
    "from sklearn.model_selection import train_test_split\n",
    "from sklearn.metrics import classification_report\n",
    "\n",
    "# Load your CSV\n",
    "df = pd.read_csv(\"simulated_river_data_large.csv\")\n",
    "\n",
    "# Add a timestamp column\n",
    "df['timestamp'] = pd.date_range(start='2025-01-01', periods=len(df), freq='H')\n",
    "\n",
    "# Fill missing\n",
    "df = df.fillna(method='bfill').fillna(method='ffill')\n",
    "\n",
    "# Normalize features\n",
    "features = ['pH', 'turbidity', 'temperature', 'DO']\n",
    "scaler = MinMaxScaler()\n",
    "df[features] = scaler.fit_transform(df[features])\n",
    "\n",
    "# Create sequences\n",
    "sequence_length = 10\n",
    "X, y = [], []\n",
    "for i in range(sequence_length, len(df)):\n",
    "    X.append(df[features].iloc[i-sequence_length:i].values)\n",
    "    y.append(df['anomaly'].iloc[i])\n",
    "\n",
    "X = np.array(X)\n",
    "y = np.array(y)\n",
    "\n",
    "# Train-test split\n",
    "X_train, X_test, y_train, y_test = train_test_split(X, y, test_size=0.2, random_state=42)\n",
    "\n",
    "# Build the LSTM\n",
    "from tensorflow.keras.models import Sequential\n",
    "from tensorflow.keras.layers import LSTM, Dense, Dropout\n",
    "from tensorflow.keras.optimizers import Adam\n",
    "from tensorflow.keras.callbacks import EarlyStopping\n",
    "\n",
    "model = Sequential([\n",
    "    LSTM(64, input_shape=(X_train.shape[1], X_train.shape[2])),\n",
    "    Dropout(0.3),\n",
    "    Dense(32, activation='relu'),\n",
    "    Dense(1, activation='sigmoid')\n",
    "])\n",
    "\n",
    "model.compile(optimizer=Adam(0.001), loss='binary_crossentropy', metrics=['accuracy'])\n",
    "\n",
    "# Train\n",
    "model.fit(X_train, y_train, epochs=30, batch_size=16,\n",
    "          validation_data=(X_test, y_test),\n",
    "          callbacks=[EarlyStopping(patience=5, restore_best_weights=True)],\n",
    "          verbose=1)\n",
    "\n",
    "# Evaluate\n",
    "y_pred = (model.predict(X_test) > 0.5).astype(\"int32\")\n",
    "print(classification_report(y_test, y_pred))"
   ]
  },
  {
   "cell_type": "code",
   "execution_count": 1,
   "id": "ba0fdc57",
   "metadata": {},
   "outputs": [
    {
     "ename": "SyntaxError",
     "evalue": "invalid syntax (2966902957.py, line 1)",
     "output_type": "error",
     "traceback": [
      "  \u001b[36mCell\u001b[39m\u001b[36m \u001b[39m\u001b[32mIn[1]\u001b[39m\u001b[32m, line 1\u001b[39m\n\u001b[31m    \u001b[39m\u001b[31mpip install ipykernel\u001b[39m\n        ^\n\u001b[31mSyntaxError\u001b[39m\u001b[31m:\u001b[39m invalid syntax\n"
     ]
    }
   ],
   "source": [
    "pip install ipykernel\n",
    "python -m ipykernel install --user --name your-env-name --display-name \"Python (your-env-name)\""
   ]
  },
  {
   "cell_type": "code",
   "execution_count": 1,
   "id": "2bc8dcb1",
   "metadata": {},
   "outputs": [
    {
     "name": "stderr",
     "output_type": "stream",
     "text": [
      "C:\\Users\\ASUS\\AppData\\Local\\Temp\\ipykernel_13484\\3615844259.py:11: FutureWarning: 'H' is deprecated and will be removed in a future version, please use 'h' instead.\n",
      "  df['timestamp'] = pd.date_range(start='2025-01-01', periods=len(df), freq='H')\n",
      "C:\\Users\\ASUS\\AppData\\Local\\Temp\\ipykernel_13484\\3615844259.py:14: FutureWarning: DataFrame.fillna with 'method' is deprecated and will raise in a future version. Use obj.ffill() or obj.bfill() instead.\n",
      "  df = df.fillna(method='bfill').fillna(method='ffill')\n",
      "c:\\Users\\ASUS\\anaconda3\\envs\\pollutrack-env\\lib\\site-packages\\keras\\src\\layers\\rnn\\rnn.py:199: UserWarning: Do not pass an `input_shape`/`input_dim` argument to a layer. When using Sequential models, prefer using an `Input(shape)` object as the first layer in the model instead.\n",
      "  super().__init__(**kwargs)\n"
     ]
    },
    {
     "name": "stdout",
     "output_type": "stream",
     "text": [
      "Epoch 1/30\n",
      "\u001b[1m6/6\u001b[0m \u001b[32m━━━━━━━━━━━━━━━━━━━━\u001b[0m\u001b[37m\u001b[0m \u001b[1m4s\u001b[0m 174ms/step - accuracy: 0.5961 - loss: 0.6785 - val_accuracy: 0.7917 - val_loss: 0.6269\n",
      "Epoch 2/30\n",
      "\u001b[1m6/6\u001b[0m \u001b[32m━━━━━━━━━━━━━━━━━━━━\u001b[0m\u001b[37m\u001b[0m \u001b[1m0s\u001b[0m 37ms/step - accuracy: 0.7524 - loss: 0.6298 - val_accuracy: 0.7917 - val_loss: 0.5663\n",
      "Epoch 3/30\n",
      "\u001b[1m6/6\u001b[0m \u001b[32m━━━━━━━━━━━━━━━━━━━━\u001b[0m\u001b[37m\u001b[0m \u001b[1m0s\u001b[0m 33ms/step - accuracy: 0.7798 - loss: 0.5636 - val_accuracy: 0.7917 - val_loss: 0.5233\n",
      "Epoch 4/30\n",
      "\u001b[1m6/6\u001b[0m \u001b[32m━━━━━━━━━━━━━━━━━━━━\u001b[0m\u001b[37m\u001b[0m \u001b[1m0s\u001b[0m 28ms/step - accuracy: 0.7615 - loss: 0.5564 - val_accuracy: 0.7917 - val_loss: 0.5111\n",
      "Epoch 5/30\n",
      "\u001b[1m6/6\u001b[0m \u001b[32m━━━━━━━━━━━━━━━━━━━━\u001b[0m\u001b[37m\u001b[0m \u001b[1m0s\u001b[0m 31ms/step - accuracy: 0.7618 - loss: 0.5530 - val_accuracy: 0.7917 - val_loss: 0.5112\n",
      "Epoch 6/30\n",
      "\u001b[1m6/6\u001b[0m \u001b[32m━━━━━━━━━━━━━━━━━━━━\u001b[0m\u001b[37m\u001b[0m \u001b[1m0s\u001b[0m 30ms/step - accuracy: 0.7615 - loss: 0.5489 - val_accuracy: 0.7917 - val_loss: 0.5110\n",
      "Epoch 7/30\n",
      "\u001b[1m6/6\u001b[0m \u001b[32m━━━━━━━━━━━━━━━━━━━━\u001b[0m\u001b[37m\u001b[0m \u001b[1m0s\u001b[0m 30ms/step - accuracy: 0.7838 - loss: 0.5144 - val_accuracy: 0.7917 - val_loss: 0.5124\n",
      "Epoch 8/30\n",
      "\u001b[1m6/6\u001b[0m \u001b[32m━━━━━━━━━━━━━━━━━━━━\u001b[0m\u001b[37m\u001b[0m \u001b[1m0s\u001b[0m 32ms/step - accuracy: 0.7305 - loss: 0.5891 - val_accuracy: 0.7917 - val_loss: 0.5162\n",
      "Epoch 9/30\n",
      "\u001b[1m6/6\u001b[0m \u001b[32m━━━━━━━━━━━━━━━━━━━━\u001b[0m\u001b[37m\u001b[0m \u001b[1m0s\u001b[0m 31ms/step - accuracy: 0.8249 - loss: 0.4820 - val_accuracy: 0.7917 - val_loss: 0.5121\n",
      "Epoch 10/30\n",
      "\u001b[1m6/6\u001b[0m \u001b[32m━━━━━━━━━━━━━━━━━━━━\u001b[0m\u001b[37m\u001b[0m \u001b[1m0s\u001b[0m 24ms/step - accuracy: 0.7656 - loss: 0.5327 - val_accuracy: 0.7917 - val_loss: 0.5122\n",
      "Epoch 11/30\n",
      "\u001b[1m6/6\u001b[0m \u001b[32m━━━━━━━━━━━━━━━━━━━━\u001b[0m\u001b[37m\u001b[0m \u001b[1m0s\u001b[0m 24ms/step - accuracy: 0.7885 - loss: 0.5205 - val_accuracy: 0.7917 - val_loss: 0.5113\n",
      "\u001b[1m1/1\u001b[0m \u001b[32m━━━━━━━━━━━━━━━━━━━━\u001b[0m\u001b[37m\u001b[0m \u001b[1m0s\u001b[0m 227ms/step\n",
      "              precision    recall  f1-score   support\n",
      "\n",
      "           0       0.79      1.00      0.88        19\n",
      "           1       0.00      0.00      0.00         5\n",
      "\n",
      "    accuracy                           0.79        24\n",
      "   macro avg       0.40      0.50      0.44        24\n",
      "weighted avg       0.63      0.79      0.70        24\n",
      "\n"
     ]
    },
    {
     "name": "stderr",
     "output_type": "stream",
     "text": [
      "c:\\Users\\ASUS\\anaconda3\\envs\\pollutrack-env\\lib\\site-packages\\sklearn\\metrics\\_classification.py:1565: UndefinedMetricWarning: Precision is ill-defined and being set to 0.0 in labels with no predicted samples. Use `zero_division` parameter to control this behavior.\n",
      "  _warn_prf(average, modifier, f\"{metric.capitalize()} is\", len(result))\n",
      "c:\\Users\\ASUS\\anaconda3\\envs\\pollutrack-env\\lib\\site-packages\\sklearn\\metrics\\_classification.py:1565: UndefinedMetricWarning: Precision is ill-defined and being set to 0.0 in labels with no predicted samples. Use `zero_division` parameter to control this behavior.\n",
      "  _warn_prf(average, modifier, f\"{metric.capitalize()} is\", len(result))\n",
      "c:\\Users\\ASUS\\anaconda3\\envs\\pollutrack-env\\lib\\site-packages\\sklearn\\metrics\\_classification.py:1565: UndefinedMetricWarning: Precision is ill-defined and being set to 0.0 in labels with no predicted samples. Use `zero_division` parameter to control this behavior.\n",
      "  _warn_prf(average, modifier, f\"{metric.capitalize()} is\", len(result))\n"
     ]
    }
   ],
   "source": [
    "import pandas as pd\n",
    "import numpy as np\n",
    "from sklearn.preprocessing import MinMaxScaler\n",
    "from sklearn.model_selection import train_test_split\n",
    "from sklearn.metrics import classification_report\n",
    "\n",
    "# Load your CSV\n",
    "df = pd.read_csv(\"simulated_river_data_large.csv\")\n",
    "\n",
    "# Add a timestamp column\n",
    "df['timestamp'] = pd.date_range(start='2025-01-01', periods=len(df), freq='H')\n",
    "\n",
    "# Fill missing\n",
    "df = df.fillna(method='bfill').fillna(method='ffill')\n",
    "\n",
    "# Normalize features\n",
    "features = ['pH', 'turbidity', 'temperature', 'DO']\n",
    "scaler = MinMaxScaler()\n",
    "df[features] = scaler.fit_transform(df[features])\n",
    "\n",
    "# Create sequences\n",
    "sequence_length = 10\n",
    "X, y = [], []\n",
    "for i in range(sequence_length, len(df)):\n",
    "    X.append(df[features].iloc[i-sequence_length:i].values)\n",
    "    y.append(df['anomaly'].iloc[i])\n",
    "\n",
    "X = np.array(X)\n",
    "y = np.array(y)\n",
    "\n",
    "# Train-test split\n",
    "X_train, X_test, y_train, y_test = train_test_split(X, y, test_size=0.2, random_state=42)\n",
    "\n",
    "# Build the LSTM\n",
    "from tensorflow.keras.models import Sequential\n",
    "from tensorflow.keras.layers import LSTM, Dense, Dropout\n",
    "from tensorflow.keras.optimizers import Adam\n",
    "from tensorflow.keras.callbacks import EarlyStopping\n",
    "\n",
    "model = Sequential([\n",
    "    LSTM(64, input_shape=(X_train.shape[1], X_train.shape[2])),\n",
    "    Dropout(0.3),\n",
    "    Dense(32, activation='relu'),\n",
    "    Dense(1, activation='sigmoid')\n",
    "])\n",
    "\n",
    "model.compile(optimizer=Adam(0.001), loss='binary_crossentropy', metrics=['accuracy'])\n",
    "\n",
    "# Train\n",
    "model.fit(X_train, y_train, epochs=30, batch_size=16,\n",
    "          validation_data=(X_test, y_test),\n",
    "          callbacks=[EarlyStopping(patience=5, restore_best_weights=True)],\n",
    "          verbose=1)\n",
    "\n",
    "# Evaluate\n",
    "y_pred = (model.predict(X_test) > 0.5).astype(\"int32\")\n",
    "print(classification_report(y_test, y_pred))"
   ]
  },
  {
   "cell_type": "code",
   "execution_count": 3,
   "id": "4e1e876f",
   "metadata": {},
   "outputs": [],
   "source": [
    "import torch\n",
    "import torch.nn.functional as F\n",
    "from torch_geometric.nn import GCNConv\n",
    "from torch_geometric.data import Data\n",
    "\n",
    "# Sample sensor data: [pH, turbidity, temperature]\n",
    "x = torch.tensor([\n",
    "    [7.0, 1.2, 25.0],  # Node 0\n",
    "    [6.5, 2.0, 24.0],  # Node 1\n",
    "    [5.8, 3.5, 23.5],  # Node 2 (polluted)\n",
    "    [6.9, 1.1, 25.5],  # Node 3\n",
    "    [5.4, 4.0, 23.0]   # Node 4 (polluted)\n",
    "], dtype=torch.float)\n",
    "\n",
    "# Edges: river flow connections\n",
    "edge_index = torch.tensor([\n",
    "    [0, 1, 1, 2, 2, 3, 3, 4],\n",
    "    [1, 0, 2, 1, 3, 2, 4, 3]\n",
    "], dtype=torch.long)\n",
    "\n",
    "# Labels: 0 = clean, 1 = polluted\n",
    "y = torch.tensor([0, 0, 1, 0, 1], dtype=torch.long)\n",
    "\n",
    "# Masks for training and testing\n",
    "train_mask = torch.tensor([True, True, True, False, False])\n",
    "test_mask = torch.tensor([False, False, False, True, True])\n",
    "\n",
    "# Create the graph object\n",
    "data = Data(x=x, edge_index=edge_index, y=y, train_mask=train_mask, test_mask=test_mask)"
   ]
  },
  {
   "cell_type": "code",
   "execution_count": 4,
   "id": "e13bbca9",
   "metadata": {},
   "outputs": [],
   "source": [
    "from torch.nn import Module\n",
    "from torch_geometric.nn import GCNConv\n",
    "\n",
    "class GCN(Module):\n",
    "    def _init_(self, in_channels, hidden_channels, out_channels):\n",
    "        super(GCN, self)._init_()\n",
    "        self.conv1 = GCNConv(in_channels, hidden_channels)\n",
    "        self.conv2 = GCNConv(hidden_channels, out_channels)\n",
    "\n",
    "    def forward(self, data):\n",
    "        x, edge_index = data.x, data.edge_index\n",
    "        x = self.conv1(x, edge_index)\n",
    "        x = F.relu(x)\n",
    "        x = self.conv2(x, edge_index)\n",
    "        return F.log_softmax(x, dim=1)"
   ]
  },
  {
   "cell_type": "code",
   "execution_count": 6,
   "id": "fe5bffd7",
   "metadata": {},
   "outputs": [
    {
     "name": "stdout",
     "output_type": "stream",
     "text": [
      "Data(x=[5, 3], edge_index=[2, 8], y=[5], train_mask=[5], test_mask=[5])\n",
      "torch.Size([5, 3])\n",
      "tensor([[0, 1, 1, 2, 2, 3, 3, 4],\n",
      "        [1, 0, 2, 1, 3, 2, 4, 3]])\n",
      "tensor([0, 0, 1, 0, 1])\n",
      "tensor([ True,  True,  True, False, False])\n"
     ]
    }
   ],
   "source": [
    "print(data)\n",
    "print(data.x.shape)       # Node features\n",
    "print(data.edge_index)    # Connectivity\n",
    "print(data.y)             # Labels\n",
    "print(data.train_mask)    # Training mask"
   ]
  },
  {
   "cell_type": "code",
   "execution_count": 7,
   "id": "aabad7bb",
   "metadata": {},
   "outputs": [
    {
     "ename": "NameError",
     "evalue": "name 'model' is not defined",
     "output_type": "error",
     "traceback": [
      "\u001b[1;31m---------------------------------------------------------------------------\u001b[0m",
      "\u001b[1;31mNameError\u001b[0m                                 Traceback (most recent call last)",
      "Cell \u001b[1;32mIn[7], line 1\u001b[0m\n\u001b[1;32m----> 1\u001b[0m out \u001b[38;5;241m=\u001b[39m \u001b[43mmodel\u001b[49m(data)\n\u001b[0;32m      2\u001b[0m \u001b[38;5;28mprint\u001b[39m(\u001b[38;5;124m\"\u001b[39m\u001b[38;5;124mOutput shape:\u001b[39m\u001b[38;5;124m\"\u001b[39m, out\u001b[38;5;241m.\u001b[39mshape)\n\u001b[0;32m      3\u001b[0m \u001b[38;5;28mprint\u001b[39m(\u001b[38;5;124m\"\u001b[39m\u001b[38;5;124mTarget shape:\u001b[39m\u001b[38;5;124m\"\u001b[39m, data\u001b[38;5;241m.\u001b[39my[data\u001b[38;5;241m.\u001b[39mtrain_mask]\u001b[38;5;241m.\u001b[39mshape)\n",
      "\u001b[1;31mNameError\u001b[0m: name 'model' is not defined"
     ]
    }
   ],
   "source": [
    "out = model(data)\n",
    "print(\"Output shape:\", out.shape)\n",
    "print(\"Target shape:\", data.y[data.train_mask].shape)\n",
    "print(\"Output example:\", out[data.train_mask])\n",
    "print(\"Target example:\", data.y[data.train_mask])"
   ]
  },
  {
   "cell_type": "code",
   "execution_count": 8,
   "id": "4454aa13",
   "metadata": {},
   "outputs": [
    {
     "ename": "NameError",
     "evalue": "name 'model' is not defined",
     "output_type": "error",
     "traceback": [
      "\u001b[1;31m---------------------------------------------------------------------------\u001b[0m",
      "\u001b[1;31mNameError\u001b[0m                                 Traceback (most recent call last)",
      "Cell \u001b[1;32mIn[8], line 4\u001b[0m\n\u001b[0;32m      1\u001b[0m \u001b[38;5;28;01mimport\u001b[39;00m\u001b[38;5;250m \u001b[39m\u001b[38;5;21;01mtorch\u001b[39;00m\u001b[38;5;21;01m.\u001b[39;00m\u001b[38;5;21;01mnn\u001b[39;00m\u001b[38;5;21;01m.\u001b[39;00m\u001b[38;5;21;01mfunctional\u001b[39;00m\u001b[38;5;250m \u001b[39m\u001b[38;5;28;01mas\u001b[39;00m\u001b[38;5;250m \u001b[39m\u001b[38;5;21;01mF\u001b[39;00m\n\u001b[0;32m      3\u001b[0m \u001b[38;5;66;03m# Make sure model and data are already defined and moved to device\u001b[39;00m\n\u001b[1;32m----> 4\u001b[0m out \u001b[38;5;241m=\u001b[39m \u001b[43mmodel\u001b[49m(data)\n\u001b[0;32m      6\u001b[0m \u001b[38;5;66;03m# Print diagnostics\u001b[39;00m\n\u001b[0;32m      7\u001b[0m \u001b[38;5;28mprint\u001b[39m(\u001b[38;5;124m\"\u001b[39m\u001b[38;5;124mOutput shape:\u001b[39m\u001b[38;5;124m\"\u001b[39m, out\u001b[38;5;241m.\u001b[39mshape)\n",
      "\u001b[1;31mNameError\u001b[0m: name 'model' is not defined"
     ]
    }
   ],
   "source": [
    "import torch.nn.functional as F\n",
    "\n",
    "# Make sure model and data are already defined and moved to device\n",
    "out = model(data)\n",
    "\n",
    "# Print diagnostics\n",
    "print(\"Output shape:\", out.shape)\n",
    "print(\"Target shape:\", data.y[data.train_mask].shape)\n",
    "print(\"Output example:\\n\", out[data.train_mask])\n",
    "print(\"Target example:\\n\", data.y[data.train_mask])"
   ]
  },
  {
   "cell_type": "code",
   "execution_count": null,
   "id": "dbeadc85",
   "metadata": {},
   "outputs": [],
   "source": [
    "import torch\n",
    "import torch.nn.functional as F\n",
    "from torch_geometric.nn import GCNConv\n",
    "\n",
    "class GCN(torch.nn.Module):\n",
    "    def __init__(self, in_channels, hidden_channels, out_channels):\n",
    "        super(GCN, self).__init__()\n",
    "        self.conv1 = GCNConv(in_channels, hidden_channels)\n",
    "        self.conv2 = GCNConv(hidden_channels, out_channels)\n",
    "\n",
    "    def forward(self, data):\n",
    "        x, edge_index = data.x, data.edge_index\n",
    "        x = self.conv1(x, edge_index)\n",
    "        x = F.relu(x)\n",
    "        x = self.conv2(x, edge_index)\n",
    "        return F.log_softmax(x, dim=1)"
   ]
  },
  {
   "cell_type": "code",
   "execution_count": 12,
   "id": "e0bb5f3c",
   "metadata": {},
   "outputs": [
    {
     "ename": "TypeError",
     "evalue": "GCN.__init__() got an unexpected keyword argument 'in_channels'",
     "output_type": "error",
     "traceback": [
      "\u001b[1;31m---------------------------------------------------------------------------\u001b[0m",
      "\u001b[1;31mTypeError\u001b[0m                                 Traceback (most recent call last)",
      "Cell \u001b[1;32mIn[12], line 2\u001b[0m\n\u001b[0;32m      1\u001b[0m device \u001b[38;5;241m=\u001b[39m torch\u001b[38;5;241m.\u001b[39mdevice(\u001b[38;5;124m'\u001b[39m\u001b[38;5;124mcuda\u001b[39m\u001b[38;5;124m'\u001b[39m \u001b[38;5;28;01mif\u001b[39;00m torch\u001b[38;5;241m.\u001b[39mcuda\u001b[38;5;241m.\u001b[39mis_available() \u001b[38;5;28;01melse\u001b[39;00m \u001b[38;5;124m'\u001b[39m\u001b[38;5;124mcpu\u001b[39m\u001b[38;5;124m'\u001b[39m)\n\u001b[1;32m----> 2\u001b[0m model \u001b[38;5;241m=\u001b[39m \u001b[43mGCN\u001b[49m\u001b[43m(\u001b[49m\u001b[43min_channels\u001b[49m\u001b[38;5;241;43m=\u001b[39;49m\u001b[38;5;241;43m3\u001b[39;49m\u001b[43m,\u001b[49m\u001b[43m \u001b[49m\u001b[43mhidden_channels\u001b[49m\u001b[38;5;241;43m=\u001b[39;49m\u001b[38;5;241;43m8\u001b[39;49m\u001b[43m,\u001b[49m\u001b[43m \u001b[49m\u001b[43mout_channels\u001b[49m\u001b[38;5;241;43m=\u001b[39;49m\u001b[38;5;241;43m2\u001b[39;49m\u001b[43m)\u001b[49m\u001b[38;5;241m.\u001b[39mto(device)\n\u001b[0;32m      3\u001b[0m data \u001b[38;5;241m=\u001b[39m data\u001b[38;5;241m.\u001b[39mto(device)\n",
      "File \u001b[1;32mc:\\Users\\ASUS\\anaconda3\\envs\\pollutrack-env\\lib\\site-packages\\torch\\nn\\modules\\module.py:472\u001b[0m, in \u001b[0;36mModule.__init__\u001b[1;34m(self, *args, **kwargs)\u001b[0m\n\u001b[0;32m    470\u001b[0m \u001b[38;5;66;03m# Backward compatibility: no args used to be allowed when call_super_init=False\u001b[39;00m\n\u001b[0;32m    471\u001b[0m \u001b[38;5;28;01mif\u001b[39;00m \u001b[38;5;28mself\u001b[39m\u001b[38;5;241m.\u001b[39mcall_super_init \u001b[38;5;129;01mis\u001b[39;00m \u001b[38;5;28;01mFalse\u001b[39;00m \u001b[38;5;129;01mand\u001b[39;00m \u001b[38;5;28mbool\u001b[39m(kwargs):\n\u001b[1;32m--> 472\u001b[0m     \u001b[38;5;28;01mraise\u001b[39;00m \u001b[38;5;167;01mTypeError\u001b[39;00m(\n\u001b[0;32m    473\u001b[0m         \u001b[38;5;124mf\u001b[39m\u001b[38;5;124m\"\u001b[39m\u001b[38;5;132;01m{\u001b[39;00m\u001b[38;5;28mtype\u001b[39m(\u001b[38;5;28mself\u001b[39m)\u001b[38;5;241m.\u001b[39m\u001b[38;5;18m__name__\u001b[39m\u001b[38;5;132;01m}\u001b[39;00m\u001b[38;5;124m.__init__() got an unexpected keyword argument \u001b[39m\u001b[38;5;124m'\u001b[39m\u001b[38;5;132;01m{\u001b[39;00m\u001b[38;5;28mnext\u001b[39m(\u001b[38;5;28miter\u001b[39m(kwargs))\u001b[38;5;132;01m}\u001b[39;00m\u001b[38;5;124m'\u001b[39m\u001b[38;5;124m\"\u001b[39m\n\u001b[0;32m    474\u001b[0m         \u001b[38;5;124m\"\u001b[39m\u001b[38;5;124m\"\u001b[39m\n\u001b[0;32m    475\u001b[0m     )\n\u001b[0;32m    477\u001b[0m \u001b[38;5;28;01mif\u001b[39;00m \u001b[38;5;28mself\u001b[39m\u001b[38;5;241m.\u001b[39mcall_super_init \u001b[38;5;129;01mis\u001b[39;00m \u001b[38;5;28;01mFalse\u001b[39;00m \u001b[38;5;129;01mand\u001b[39;00m \u001b[38;5;28mbool\u001b[39m(args):\n\u001b[0;32m    478\u001b[0m     \u001b[38;5;28;01mraise\u001b[39;00m \u001b[38;5;167;01mTypeError\u001b[39;00m(\n\u001b[0;32m    479\u001b[0m         \u001b[38;5;124mf\u001b[39m\u001b[38;5;124m\"\u001b[39m\u001b[38;5;132;01m{\u001b[39;00m\u001b[38;5;28mtype\u001b[39m(\u001b[38;5;28mself\u001b[39m)\u001b[38;5;241m.\u001b[39m\u001b[38;5;18m__name__\u001b[39m\u001b[38;5;132;01m}\u001b[39;00m\u001b[38;5;124m.__init__() takes 1 positional argument but \u001b[39m\u001b[38;5;132;01m{\u001b[39;00m\u001b[38;5;28mlen\u001b[39m(args)\u001b[38;5;250m \u001b[39m\u001b[38;5;241m+\u001b[39m\u001b[38;5;250m \u001b[39m\u001b[38;5;241m1\u001b[39m\u001b[38;5;132;01m}\u001b[39;00m\u001b[38;5;124m were\u001b[39m\u001b[38;5;124m\"\u001b[39m\n\u001b[0;32m    480\u001b[0m         \u001b[38;5;124m\"\u001b[39m\u001b[38;5;124m given\u001b[39m\u001b[38;5;124m\"\u001b[39m\n\u001b[0;32m    481\u001b[0m     )\n",
      "\u001b[1;31mTypeError\u001b[0m: GCN.__init__() got an unexpected keyword argument 'in_channels'"
     ]
    }
   ],
   "source": [
    "device = torch.device('cuda' if torch.cuda.is_available() else 'cpu')\n",
    "model = GCN(in_channels=3, hidden_channels=8, out_channels=2).to(device)\n",
    "data = data.to(device)"
   ]
  },
  {
   "cell_type": "code",
   "execution_count": 11,
   "id": "fec6fd67",
   "metadata": {},
   "outputs": [
    {
     "ename": "TypeError",
     "evalue": "GCN.__init__() got an unexpected keyword argument 'in_channels'",
     "output_type": "error",
     "traceback": [
      "\u001b[1;31m---------------------------------------------------------------------------\u001b[0m",
      "\u001b[1;31mTypeError\u001b[0m                                 Traceback (most recent call last)",
      "Cell \u001b[1;32mIn[11], line 2\u001b[0m\n\u001b[0;32m      1\u001b[0m device \u001b[38;5;241m=\u001b[39m torch\u001b[38;5;241m.\u001b[39mdevice(\u001b[38;5;124m'\u001b[39m\u001b[38;5;124mcuda\u001b[39m\u001b[38;5;124m'\u001b[39m \u001b[38;5;28;01mif\u001b[39;00m torch\u001b[38;5;241m.\u001b[39mcuda\u001b[38;5;241m.\u001b[39mis_available() \u001b[38;5;28;01melse\u001b[39;00m \u001b[38;5;124m'\u001b[39m\u001b[38;5;124mcpu\u001b[39m\u001b[38;5;124m'\u001b[39m)\n\u001b[1;32m----> 2\u001b[0m model \u001b[38;5;241m=\u001b[39m \u001b[43mGCN\u001b[49m\u001b[43m(\u001b[49m\u001b[43min_channels\u001b[49m\u001b[38;5;241;43m=\u001b[39;49m\u001b[38;5;241;43m3\u001b[39;49m\u001b[43m,\u001b[49m\u001b[43m \u001b[49m\u001b[43mhidden_channels\u001b[49m\u001b[38;5;241;43m=\u001b[39;49m\u001b[38;5;241;43m8\u001b[39;49m\u001b[43m,\u001b[49m\u001b[43m \u001b[49m\u001b[43mout_channels\u001b[49m\u001b[38;5;241;43m=\u001b[39;49m\u001b[38;5;241;43m2\u001b[39;49m\u001b[43m)\u001b[49m\u001b[38;5;241m.\u001b[39mto(device)\n\u001b[0;32m      3\u001b[0m data \u001b[38;5;241m=\u001b[39m data\u001b[38;5;241m.\u001b[39mto(device)  \u001b[38;5;66;03m# Move your data to the same device\u001b[39;00m\n",
      "File \u001b[1;32mc:\\Users\\ASUS\\anaconda3\\envs\\pollutrack-env\\lib\\site-packages\\torch\\nn\\modules\\module.py:472\u001b[0m, in \u001b[0;36mModule.__init__\u001b[1;34m(self, *args, **kwargs)\u001b[0m\n\u001b[0;32m    470\u001b[0m \u001b[38;5;66;03m# Backward compatibility: no args used to be allowed when call_super_init=False\u001b[39;00m\n\u001b[0;32m    471\u001b[0m \u001b[38;5;28;01mif\u001b[39;00m \u001b[38;5;28mself\u001b[39m\u001b[38;5;241m.\u001b[39mcall_super_init \u001b[38;5;129;01mis\u001b[39;00m \u001b[38;5;28;01mFalse\u001b[39;00m \u001b[38;5;129;01mand\u001b[39;00m \u001b[38;5;28mbool\u001b[39m(kwargs):\n\u001b[1;32m--> 472\u001b[0m     \u001b[38;5;28;01mraise\u001b[39;00m \u001b[38;5;167;01mTypeError\u001b[39;00m(\n\u001b[0;32m    473\u001b[0m         \u001b[38;5;124mf\u001b[39m\u001b[38;5;124m\"\u001b[39m\u001b[38;5;132;01m{\u001b[39;00m\u001b[38;5;28mtype\u001b[39m(\u001b[38;5;28mself\u001b[39m)\u001b[38;5;241m.\u001b[39m\u001b[38;5;18m__name__\u001b[39m\u001b[38;5;132;01m}\u001b[39;00m\u001b[38;5;124m.__init__() got an unexpected keyword argument \u001b[39m\u001b[38;5;124m'\u001b[39m\u001b[38;5;132;01m{\u001b[39;00m\u001b[38;5;28mnext\u001b[39m(\u001b[38;5;28miter\u001b[39m(kwargs))\u001b[38;5;132;01m}\u001b[39;00m\u001b[38;5;124m'\u001b[39m\u001b[38;5;124m\"\u001b[39m\n\u001b[0;32m    474\u001b[0m         \u001b[38;5;124m\"\u001b[39m\u001b[38;5;124m\"\u001b[39m\n\u001b[0;32m    475\u001b[0m     )\n\u001b[0;32m    477\u001b[0m \u001b[38;5;28;01mif\u001b[39;00m \u001b[38;5;28mself\u001b[39m\u001b[38;5;241m.\u001b[39mcall_super_init \u001b[38;5;129;01mis\u001b[39;00m \u001b[38;5;28;01mFalse\u001b[39;00m \u001b[38;5;129;01mand\u001b[39;00m \u001b[38;5;28mbool\u001b[39m(args):\n\u001b[0;32m    478\u001b[0m     \u001b[38;5;28;01mraise\u001b[39;00m \u001b[38;5;167;01mTypeError\u001b[39;00m(\n\u001b[0;32m    479\u001b[0m         \u001b[38;5;124mf\u001b[39m\u001b[38;5;124m\"\u001b[39m\u001b[38;5;132;01m{\u001b[39;00m\u001b[38;5;28mtype\u001b[39m(\u001b[38;5;28mself\u001b[39m)\u001b[38;5;241m.\u001b[39m\u001b[38;5;18m__name__\u001b[39m\u001b[38;5;132;01m}\u001b[39;00m\u001b[38;5;124m.__init__() takes 1 positional argument but \u001b[39m\u001b[38;5;132;01m{\u001b[39;00m\u001b[38;5;28mlen\u001b[39m(args)\u001b[38;5;250m \u001b[39m\u001b[38;5;241m+\u001b[39m\u001b[38;5;250m \u001b[39m\u001b[38;5;241m1\u001b[39m\u001b[38;5;132;01m}\u001b[39;00m\u001b[38;5;124m were\u001b[39m\u001b[38;5;124m\"\u001b[39m\n\u001b[0;32m    480\u001b[0m         \u001b[38;5;124m\"\u001b[39m\u001b[38;5;124m given\u001b[39m\u001b[38;5;124m\"\u001b[39m\n\u001b[0;32m    481\u001b[0m     )\n",
      "\u001b[1;31mTypeError\u001b[0m: GCN.__init__() got an unexpected keyword argument 'in_channels'"
     ]
    }
   ],
   "source": [
    "device = torch.device('cuda' if torch.cuda.is_available() else 'cpu')\n",
    "model = GCN(in_channels=3, hidden_channels=8, out_channels=2).to(device)\n",
    "data = data.to(device)  # Move your data to the same device"
   ]
  },
  {
   "cell_type": "code",
   "execution_count": 5,
   "id": "a0b14d4b",
   "metadata": {},
   "outputs": [
    {
     "ename": "TypeError",
     "evalue": "GCN.__init__() got an unexpected keyword argument 'in_channels'",
     "output_type": "error",
     "traceback": [
      "\u001b[1;31m---------------------------------------------------------------------------\u001b[0m",
      "\u001b[1;31mTypeError\u001b[0m                                 Traceback (most recent call last)",
      "Cell \u001b[1;32mIn[5], line 2\u001b[0m\n\u001b[0;32m      1\u001b[0m device \u001b[38;5;241m=\u001b[39m torch\u001b[38;5;241m.\u001b[39mdevice(\u001b[38;5;124m'\u001b[39m\u001b[38;5;124mcuda\u001b[39m\u001b[38;5;124m'\u001b[39m \u001b[38;5;28;01mif\u001b[39;00m torch\u001b[38;5;241m.\u001b[39mcuda\u001b[38;5;241m.\u001b[39mis_available() \u001b[38;5;28;01melse\u001b[39;00m \u001b[38;5;124m'\u001b[39m\u001b[38;5;124mcpu\u001b[39m\u001b[38;5;124m'\u001b[39m)\n\u001b[1;32m----> 2\u001b[0m model \u001b[38;5;241m=\u001b[39m \u001b[43mGCN\u001b[49m\u001b[43m(\u001b[49m\u001b[43min_channels\u001b[49m\u001b[38;5;241;43m=\u001b[39;49m\u001b[38;5;241;43m3\u001b[39;49m\u001b[43m,\u001b[49m\u001b[43m \u001b[49m\u001b[43mhidden_channels\u001b[49m\u001b[38;5;241;43m=\u001b[39;49m\u001b[38;5;241;43m8\u001b[39;49m\u001b[43m,\u001b[49m\u001b[43m \u001b[49m\u001b[43mout_channels\u001b[49m\u001b[38;5;241;43m=\u001b[39;49m\u001b[38;5;241;43m2\u001b[39;49m\u001b[43m)\u001b[49m\u001b[38;5;241m.\u001b[39mto(device)\n\u001b[0;32m      3\u001b[0m data \u001b[38;5;241m=\u001b[39m data\u001b[38;5;241m.\u001b[39mto(device)\n\u001b[0;32m      4\u001b[0m optimizer \u001b[38;5;241m=\u001b[39m torch\u001b[38;5;241m.\u001b[39moptim\u001b[38;5;241m.\u001b[39mAdam(model\u001b[38;5;241m.\u001b[39mparameters(), lr\u001b[38;5;241m=\u001b[39m\u001b[38;5;241m0.01\u001b[39m, weight_decay\u001b[38;5;241m=\u001b[39m\u001b[38;5;241m5e-4\u001b[39m)\n",
      "File \u001b[1;32mc:\\Users\\ASUS\\anaconda3\\envs\\pollutrack-env\\lib\\site-packages\\torch\\nn\\modules\\module.py:472\u001b[0m, in \u001b[0;36mModule.__init__\u001b[1;34m(self, *args, **kwargs)\u001b[0m\n\u001b[0;32m    470\u001b[0m \u001b[38;5;66;03m# Backward compatibility: no args used to be allowed when call_super_init=False\u001b[39;00m\n\u001b[0;32m    471\u001b[0m \u001b[38;5;28;01mif\u001b[39;00m \u001b[38;5;28mself\u001b[39m\u001b[38;5;241m.\u001b[39mcall_super_init \u001b[38;5;129;01mis\u001b[39;00m \u001b[38;5;28;01mFalse\u001b[39;00m \u001b[38;5;129;01mand\u001b[39;00m \u001b[38;5;28mbool\u001b[39m(kwargs):\n\u001b[1;32m--> 472\u001b[0m     \u001b[38;5;28;01mraise\u001b[39;00m \u001b[38;5;167;01mTypeError\u001b[39;00m(\n\u001b[0;32m    473\u001b[0m         \u001b[38;5;124mf\u001b[39m\u001b[38;5;124m\"\u001b[39m\u001b[38;5;132;01m{\u001b[39;00m\u001b[38;5;28mtype\u001b[39m(\u001b[38;5;28mself\u001b[39m)\u001b[38;5;241m.\u001b[39m\u001b[38;5;18m__name__\u001b[39m\u001b[38;5;132;01m}\u001b[39;00m\u001b[38;5;124m.__init__() got an unexpected keyword argument \u001b[39m\u001b[38;5;124m'\u001b[39m\u001b[38;5;132;01m{\u001b[39;00m\u001b[38;5;28mnext\u001b[39m(\u001b[38;5;28miter\u001b[39m(kwargs))\u001b[38;5;132;01m}\u001b[39;00m\u001b[38;5;124m'\u001b[39m\u001b[38;5;124m\"\u001b[39m\n\u001b[0;32m    474\u001b[0m         \u001b[38;5;124m\"\u001b[39m\u001b[38;5;124m\"\u001b[39m\n\u001b[0;32m    475\u001b[0m     )\n\u001b[0;32m    477\u001b[0m \u001b[38;5;28;01mif\u001b[39;00m \u001b[38;5;28mself\u001b[39m\u001b[38;5;241m.\u001b[39mcall_super_init \u001b[38;5;129;01mis\u001b[39;00m \u001b[38;5;28;01mFalse\u001b[39;00m \u001b[38;5;129;01mand\u001b[39;00m \u001b[38;5;28mbool\u001b[39m(args):\n\u001b[0;32m    478\u001b[0m     \u001b[38;5;28;01mraise\u001b[39;00m \u001b[38;5;167;01mTypeError\u001b[39;00m(\n\u001b[0;32m    479\u001b[0m         \u001b[38;5;124mf\u001b[39m\u001b[38;5;124m\"\u001b[39m\u001b[38;5;132;01m{\u001b[39;00m\u001b[38;5;28mtype\u001b[39m(\u001b[38;5;28mself\u001b[39m)\u001b[38;5;241m.\u001b[39m\u001b[38;5;18m__name__\u001b[39m\u001b[38;5;132;01m}\u001b[39;00m\u001b[38;5;124m.__init__() takes 1 positional argument but \u001b[39m\u001b[38;5;132;01m{\u001b[39;00m\u001b[38;5;28mlen\u001b[39m(args)\u001b[38;5;250m \u001b[39m\u001b[38;5;241m+\u001b[39m\u001b[38;5;250m \u001b[39m\u001b[38;5;241m1\u001b[39m\u001b[38;5;132;01m}\u001b[39;00m\u001b[38;5;124m were\u001b[39m\u001b[38;5;124m\"\u001b[39m\n\u001b[0;32m    480\u001b[0m         \u001b[38;5;124m\"\u001b[39m\u001b[38;5;124m given\u001b[39m\u001b[38;5;124m\"\u001b[39m\n\u001b[0;32m    481\u001b[0m     )\n",
      "\u001b[1;31mTypeError\u001b[0m: GCN.__init__() got an unexpected keyword argument 'in_channels'"
     ]
    }
   ],
   "source": [
    "device = torch.device('cuda' if torch.cuda.is_available() else 'cpu')\n",
    "model = GCN(in_channels=3, hidden_channels=8, out_channels=2).to(device)\n",
    "data = data.to(device)\n",
    "optimizer = torch.optim.Adam(model.parameters(), lr=0.01, weight_decay=5e-4)\n",
    "\n",
    "model.train()\n",
    "for epoch in range(100):\n",
    "    optimizer.zero_grad()\n",
    "    out = model(data)\n",
    "    loss = F.nll_loss(out[data.train_mask], data.y[data.train_mask])\n",
    "    loss.backward()\n",
    "    optimizer.step()\n",
    "    if epoch % 10 == 0:\n",
    "        print(f'Epoch {epoch}, Loss: {loss.item():.4f}')"
   ]
  },
  {
   "cell_type": "code",
   "execution_count": 13,
   "id": "03a87252",
   "metadata": {},
   "outputs": [],
   "source": [
    "import torch\n",
    "import torch.nn.functional as F\n",
    "from torch_geometric.nn import GCNConv\n",
    "\n",
    "class GCN(torch.nn.Module):\n",
    "    def __init__(self, in_channels, hidden_channels, out_channels):\n",
    "        super(GCN, self).__init__()\n",
    "        self.conv1 = GCNConv(in_channels, hidden_channels)\n",
    "        self.conv2 = GCNConv(hidden_channels, out_channels)\n",
    "\n",
    "    def forward(self, data):\n",
    "        x, edge_index = data.x, data.edge_index\n",
    "        x = self.conv1(x, edge_index)\n",
    "        x = F.relu(x)\n",
    "        x = self.conv2(x, edge_index)\n",
    "        return F.log_softmax(x, dim=1)\n"
   ]
  },
  {
   "cell_type": "code",
   "execution_count": 14,
   "id": "f3372f6e",
   "metadata": {},
   "outputs": [],
   "source": [
    "device = torch.device('cuda' if torch.cuda.is_available() else 'cpu')\n",
    "model = GCN(in_channels=3, hidden_channels=8, out_channels=2).to(device)\n",
    "data = data.to(device)"
   ]
  },
  {
   "cell_type": "code",
   "execution_count": 15,
   "id": "87b007d2",
   "metadata": {},
   "outputs": [
    {
     "name": "stdout",
     "output_type": "stream",
     "text": [
      "Epoch 0, Loss: 3.8101\n",
      "Epoch 10, Loss: 0.9358\n",
      "Epoch 20, Loss: 0.6715\n",
      "Epoch 30, Loss: 0.7005\n",
      "Epoch 40, Loss: 0.6281\n",
      "Epoch 50, Loss: 0.6157\n",
      "Epoch 60, Loss: 0.5952\n",
      "Epoch 70, Loss: 0.5826\n",
      "Epoch 80, Loss: 0.5668\n",
      "Epoch 90, Loss: 0.5507\n"
     ]
    }
   ],
   "source": [
    "optimizer = torch.optim.Adam(model.parameters(), lr=0.01, weight_decay=5e-4)\n",
    "\n",
    "model.train()\n",
    "for epoch in range(100):\n",
    "    optimizer.zero_grad()\n",
    "    out = model(data)\n",
    "    loss = F.nll_loss(out[data.train_mask], data.y[data.train_mask])\n",
    "    loss.backward()\n",
    "    optimizer.step()\n",
    "    \n",
    "    if epoch % 10 == 0:\n",
    "        print(f\"Epoch {epoch}, Loss: {loss.item():.4f}\")"
   ]
  },
  {
   "cell_type": "code",
   "execution_count": 16,
   "id": "bd67feec",
   "metadata": {},
   "outputs": [
    {
     "name": "stdout",
     "output_type": "stream",
     "text": [
      "Accuracy: 1.0000\n"
     ]
    }
   ],
   "source": [
    "model.eval()\n",
    "out = model(data)\n",
    "pred = out.argmax(dim=1)\n",
    "correct = pred[data.test_mask] == data.y[data.test_mask]\n",
    "accuracy = int(correct.sum()) / int(data.test_mask.sum())\n",
    "print(f'Accuracy: {accuracy:.4f}')"
   ]
  },
  {
   "cell_type": "code",
   "execution_count": 17,
   "id": "c4b15070",
   "metadata": {},
   "outputs": [
    {
     "name": "stderr",
     "output_type": "stream",
     "text": [
      "Matplotlib is building the font cache; this may take a moment.\n"
     ]
    },
    {
     "data": {
      "image/png": "[encoded data removed]",
      "text/plain": [
       "<Figure size 800x600 with 1 Axes>"
      ]
     },
     "metadata": {},
     "output_type": "display_data"
    }
   ],
   "source": [
    "import matplotlib.pyplot as plt\n",
    "import networkx as nx\n",
    "from torch_geometric.utils import to_networkx\n",
    "\n",
    "# Convert PyG data to a NetworkX graph\n",
    "G = to_networkx(data, to_undirected=True)\n",
    "\n",
    "# Set node colors based on labels (e.g., 0 = normal, 1 = anomaly)\n",
    "node_colors = ['red' if label == 1 else 'green' for label in data.y.tolist()]\n",
    "\n",
    "# Plot the graph\n",
    "plt.figure(figsize=(8, 6))\n",
    "nx.draw(G, node_color=node_colors, with_labels=True, node_size=300, font_size=10)\n",
    "plt.title(\"Graph Visualization (Red = Anomaly, Green = Normal)\")\n",
    "plt.show()"
   ]
  },
  {
   "cell_type": "code",
   "execution_count": 19,
   "id": "0c39037d",
   "metadata": {},
   "outputs": [
    {
     "ename": "ImportError",
     "evalue": "'knn_graph' requires 'torch-cluster'",
     "output_type": "error",
     "traceback": [
      "\u001b[1;31m---------------------------------------------------------------------------\u001b[0m",
      "\u001b[1;31mImportError\u001b[0m                               Traceback (most recent call last)",
      "Cell \u001b[1;32mIn[19], line 19\u001b[0m\n\u001b[0;32m     16\u001b[0m y \u001b[38;5;241m=\u001b[39m torch\u001b[38;5;241m.\u001b[39mtensor(labels, dtype\u001b[38;5;241m=\u001b[39mtorch\u001b[38;5;241m.\u001b[39mlong)\n\u001b[0;32m     18\u001b[0m \u001b[38;5;66;03m# Step 3: Build kNN graph (e.g., k = 3)\u001b[39;00m\n\u001b[1;32m---> 19\u001b[0m edge_index \u001b[38;5;241m=\u001b[39m \u001b[43mknn_graph\u001b[49m\u001b[43m(\u001b[49m\u001b[43mx\u001b[49m\u001b[43m,\u001b[49m\u001b[43m \u001b[49m\u001b[43mk\u001b[49m\u001b[38;5;241;43m=\u001b[39;49m\u001b[38;5;241;43m3\u001b[39;49m\u001b[43m)\u001b[49m\n\u001b[0;32m     21\u001b[0m \u001b[38;5;66;03m# Step 4: Create PyG data object\u001b[39;00m\n\u001b[0;32m     22\u001b[0m data \u001b[38;5;241m=\u001b[39m Data(x\u001b[38;5;241m=\u001b[39mx, edge_index\u001b[38;5;241m=\u001b[39medge_index, y\u001b[38;5;241m=\u001b[39my)\n",
      "File \u001b[1;32mc:\\Users\\ASUS\\anaconda3\\envs\\pollutrack-env\\lib\\site-packages\\torch_geometric\\nn\\pool\\__init__.py:171\u001b[0m, in \u001b[0;36mknn_graph\u001b[1;34m(x, k, batch, loop, flow, cosine, num_workers, batch_size)\u001b[0m\n\u001b[0;32m    168\u001b[0m     batch \u001b[38;5;241m=\u001b[39m batch\u001b[38;5;241m.\u001b[39mto(x\u001b[38;5;241m.\u001b[39mdevice)\n\u001b[0;32m    170\u001b[0m \u001b[38;5;28;01mif\u001b[39;00m \u001b[38;5;129;01mnot\u001b[39;00m torch_geometric\u001b[38;5;241m.\u001b[39mtyping\u001b[38;5;241m.\u001b[39mWITH_TORCH_CLUSTER_BATCH_SIZE:\n\u001b[1;32m--> 171\u001b[0m     \u001b[38;5;28;01mreturn\u001b[39;00m \u001b[43mtorch_cluster\u001b[49m\u001b[38;5;241;43m.\u001b[39;49m\u001b[43mknn_graph\u001b[49m(x, k, batch, loop, flow, cosine,\n\u001b[0;32m    172\u001b[0m                                    num_workers)\n\u001b[0;32m    173\u001b[0m \u001b[38;5;28;01mreturn\u001b[39;00m torch_cluster\u001b[38;5;241m.\u001b[39mknn_graph(x, k, batch, loop, flow, cosine,\n\u001b[0;32m    174\u001b[0m                                num_workers, batch_size)\n",
      "File \u001b[1;32mc:\\Users\\ASUS\\anaconda3\\envs\\pollutrack-env\\lib\\site-packages\\torch_geometric\\typing.py:104\u001b[0m, in \u001b[0;36mTorchCluster.__getattr__\u001b[1;34m(self, key)\u001b[0m\n\u001b[0;32m    103\u001b[0m \u001b[38;5;28;01mdef\u001b[39;00m\u001b[38;5;250m \u001b[39m\u001b[38;5;21m__getattr__\u001b[39m(\u001b[38;5;28mself\u001b[39m, key: \u001b[38;5;28mstr\u001b[39m) \u001b[38;5;241m-\u001b[39m\u001b[38;5;241m>\u001b[39m Any:\n\u001b[1;32m--> 104\u001b[0m     \u001b[38;5;28;01mraise\u001b[39;00m \u001b[38;5;167;01mImportError\u001b[39;00m(\u001b[38;5;124mf\u001b[39m\u001b[38;5;124m\"\u001b[39m\u001b[38;5;124m'\u001b[39m\u001b[38;5;132;01m{\u001b[39;00mkey\u001b[38;5;132;01m}\u001b[39;00m\u001b[38;5;124m'\u001b[39m\u001b[38;5;124m requires \u001b[39m\u001b[38;5;124m'\u001b[39m\u001b[38;5;124mtorch-cluster\u001b[39m\u001b[38;5;124m'\u001b[39m\u001b[38;5;124m\"\u001b[39m)\n",
      "\u001b[1;31mImportError\u001b[0m: 'knn_graph' requires 'torch-cluster'"
     ]
    }
   ],
   "source": [
    "import pandas as pd\n",
    "import torch\n",
    "from torch_geometric.data import Data\n",
    "from torch_geometric.nn import knn_graph\n",
    "import matplotlib.pyplot as plt\n",
    "import networkx as nx\n",
    "from sklearn.manifold import TSNE\n",
    "\n",
    "# Step 1: Load data\n",
    "df = pd.read_csv(\"simulated_river_data_large.csv\")  \n",
    "features = df[['pH', 'turbidity', 'temperature', 'DO']].values\n",
    "labels = df['anomaly'].values\n",
    "\n",
    "# Step 2: Convert to tensors\n",
    "x = torch.tensor(features, dtype=torch.float)\n",
    "y = torch.tensor(labels, dtype=torch.long)\n",
    "\n",
    "# Step 3: Build kNN graph (e.g., k = 3)\n",
    "edge_index = knn_graph(x, k=3)\n",
    "\n",
    "# Step 4: Create PyG data object\n",
    "data = Data(x=x, edge_index=edge_index, y=y)\n",
    "\n",
    "# Step 5: Visualize with NetworkX\n",
    "G = nx.Graph()\n",
    "edge_list = data.edge_index.t().tolist()\n",
    "G.add_edges_from(edge_list)\n",
    "\n",
    "# Optional: color nodes by label\n",
    "color_map = ['red' if label == 1 else 'skyblue' for label in y]\n",
    "\n",
    "# Plot graph structure\n",
    "pos = nx.spring_layout(G)\n",
    "nx.draw(G, pos, with_labels=True, node_color=color_map, node_size=500, edge_color='gray')\n",
    "plt.title(\"Graph from CSV (anomalies in red)\")\n",
    "plt.show()"
   ]
  },
  {
   "cell_type": "code",
   "execution_count": null,
   "id": "6b9c2ffb",
   "metadata": {},
   "outputs": [
    {
     "data": {
      "image/png": "[encoded data removed]",
      "text/plain": [
       "<Figure size 640x480 with 1 Axes>"
      ]
     },
     "metadata": {},
     "output_type": "display_data"
    },
    {
     "data": {
      "image/png": "[encoded data removed]",
      "text/plain": [
       "<Figure size 600x500 with 2 Axes>"
      ]
     },
     "metadata": {},
     "output_type": "display_data"
    }
   ],
   "source": [
    "import pandas as pd\n",
    "import torch\n",
    "from torch_geometric.data import Data\n",
    "import matplotlib.pyplot as plt\n",
    "import networkx as nx\n",
    "from sklearn.neighbors import NearestNeighbors\n",
    "from sklearn.manifold import TSNE\n",
    "\n",
    "\n",
    "df = pd.read_csv(\"simulated_river_data_large.csv\")  \n",
    "features = df[['pH', 'turbidity', 'temperature', 'DO']].values\n",
    "labels = df['anomaly'].values\n",
    "\n",
    "x = torch.tensor(features, dtype=torch.float)\n",
    "y = torch.tensor(labels, dtype=torch.long)\n",
    "\n",
    "\n",
    "k = 3\n",
    "nbrs = NearestNeighbors(n_neighbors=k+1).fit(features)\n",
    "_, indices = nbrs.kneighbors(features)\n",
    "\n",
    "\n",
    "source_nodes = []\n",
    "target_nodes = []\n",
    "\n",
    "for i, neighbors in enumerate(indices):\n",
    "    for j in neighbors[1:]:  \n",
    "        source_nodes.append(i)\n",
    "        target_nodes.append(j)\n",
    "\n",
    "edge_index = torch.tensor([source_nodes, target_nodes], dtype=torch.long)\n",
    "\n",
    "\n",
    "data = Data(x=x, edge_index=edge_index, y=y)\n",
    "\n",
    "\n",
    "G = nx.Graph()\n",
    "edge_list = data.edge_index.t().tolist()\n",
    "G.add_edges_from(edge_list)\n",
    "\n",
    "color_map = ['red' if label == 1 else 'skyblue' for label in y]\n",
    "\n",
    "pos = nx.spring_layout(G, seed=42)  \n",
    "nx.draw(G, pos, with_labels=True, node_color=color_map, node_size=500, edge_color='gray')\n",
    "plt.title(\"kNN Graph (Anomalies in Red)\")\n",
    "plt.show()\n",
    "\n",
    "\n",
    "tsne = TSNE(n_components=2, random_state=42)\n",
    "x_tsne = tsne.fit_transform(features)\n",
    "\n",
    "plt.figure(figsize=(6, 5))\n",
    "plt.scatter(x_tsne[:, 0], x_tsne[:, 1], c=labels, cmap='coolwarm', s=60)\n",
    "plt.title(\"t-SNE of Node Features\")\n",
    "plt.xlabel(\"Dim 1\")\n",
    "plt.ylabel(\"Dim 2\")\n",
    "plt.colorbar(label='Anomaly')\n",
    "plt.show()"
   ]
  },
  {
   "cell_type": "code",
   "execution_count": null,
   "id": "df308c23",
   "metadata": {},
   "outputs": [
    {
     "ename": "NameError",
     "evalue": "name '_name_' is not defined",
     "output_type": "error",
     "traceback": [
      "\u001b[1;31m---------------------------------------------------------------------------\u001b[0m",
      "\u001b[1;31mNameError\u001b[0m                                 Traceback (most recent call last)",
      "Cell \u001b[1;32mIn[3], line 12\u001b[0m\n\u001b[0;32m      9\u001b[0m CSV_FILE \u001b[38;5;241m=\u001b[39m \u001b[38;5;124m\"\u001b[39m\u001b[38;5;124mriver_data_large.csv\u001b[39m\u001b[38;5;124m\"\u001b[39m\n\u001b[0;32m     11\u001b[0m \u001b[38;5;66;03m# Initialize Dash app\u001b[39;00m\n\u001b[1;32m---> 12\u001b[0m app \u001b[38;5;241m=\u001b[39m dash\u001b[38;5;241m.\u001b[39mDash(\u001b[43m_name_\u001b[49m)\n\u001b[0;32m     13\u001b[0m app\u001b[38;5;241m.\u001b[39mtitle \u001b[38;5;241m=\u001b[39m \u001b[38;5;124m\"\u001b[39m\u001b[38;5;124mReal-Time Pollution Dashboard\u001b[39m\u001b[38;5;124m\"\u001b[39m\n\u001b[0;32m     15\u001b[0m app\u001b[38;5;241m.\u001b[39mlayout \u001b[38;5;241m=\u001b[39m html\u001b[38;5;241m.\u001b[39mDiv(children\u001b[38;5;241m=\u001b[39m[\n\u001b[0;32m     16\u001b[0m     html\u001b[38;5;241m.\u001b[39mH1(\u001b[38;5;124m\"\u001b[39m\u001b[38;5;124mReal-Time Pollution Dashboard\u001b[39m\u001b[38;5;124m\"\u001b[39m, style\u001b[38;5;241m=\u001b[39m{\u001b[38;5;124m'\u001b[39m\u001b[38;5;124mtextAlign\u001b[39m\u001b[38;5;124m'\u001b[39m: \u001b[38;5;124m'\u001b[39m\u001b[38;5;124mcenter\u001b[39m\u001b[38;5;124m'\u001b[39m}),\n\u001b[0;32m     17\u001b[0m \n\u001b[1;32m   (...)\u001b[0m\n\u001b[0;32m     29\u001b[0m     ], style\u001b[38;5;241m=\u001b[39m{\u001b[38;5;124m'\u001b[39m\u001b[38;5;124mmarginTop\u001b[39m\u001b[38;5;124m'\u001b[39m: \u001b[38;5;124m'\u001b[39m\u001b[38;5;124m50px\u001b[39m\u001b[38;5;124m'\u001b[39m})\n\u001b[0;32m     30\u001b[0m ])\n",
      "\u001b[1;31mNameError\u001b[0m: name '_name_' is not defined"
     ]
    }
   ],
   "source": [
    "import dash\n",
    "from dash import dcc, html\n",
    "from dash.dependencies import Input, Output\n",
    "import pandas as pd\n",
    "import plotly.express as px\n",
    "import time\n",
    "\n",
    "CSV_FILE = \"river_data_large.csv\"\n",
    "\n",
    "app = dash.Dash(_name_)\n",
    "app.title = \"Real-Time Pollution Dashboard\"\n",
    "\n",
    "app.layout = html.Div(children=[\n",
    "    html.H1(\"Real-Time Pollution Dashboard\", style={'textAlign': 'center'}),\n",
    "\n",
    "    dcc.Interval(\n",
    "        id='interval-component',\n",
    "        interval=5*1000,  \n",
    "        n_intervals=0\n",
    "    ),\n",
    "\n",
    "    dcc.Graph(id='pollution-graph'),\n",
    "\n",
    "    html.Div([\n",
    "        dcc.Dropdown(id='sensor-dropdown', placeholder='Select Sensor ID'),\n",
    "        dcc.Graph(id='sensor-trend')\n",
    "    ], style={'marginTop': '50px'})\n",
    "])\n",
    "\n",
    "\n",
    "@app.callback(\n",
    "    Output('pollution-graph', 'figure'),\n",
    "    Input('interval-component', 'n_intervals')\n",
    ")\n",
    "def update_pollution_map(n):\n",
    "    try:\n",
    "        df = pd.read_csv(CSV_FILE)\n",
    "\n",
    "        latest = df.sort_values('timestamp').drop_duplicates('sensor_id', keep='last')\n",
    "\n",
    "        fig = px.scatter_mapbox(latest,\n",
    "                                lat=\"lat\", lon=\"lon\",\n",
    "                                color=\"pollution_level\",\n",
    "                                size=\"pollution_level\",\n",
    "                                hover_name=\"sensor_id\",\n",
    "                                zoom=10,\n",
    "                                mapbox_style=\"carto-positron\",\n",
    "                                title=\"Latest Pollution Levels by Sensor\")\n",
    "        return fig\n",
    "    except Exception as e:\n",
    "        return px.scatter(title=\"Error loading data: \" + str(e))\n",
    "\n",
    "\n",
    "@app.callback(\n",
    "    [Output('sensor-dropdown', 'options'),\n",
    "     Output('sensor-dropdown', 'value')],\n",
    "    Input('interval-component', 'n_intervals')\n",
    ")\n",
    "def update_dropdown(n):\n",
    "    df = pd.read_csv(CSV_FILE)\n",
    "    options = [{'label': sid, 'value': sid} for sid in df['sensor_id'].unique()]\n",
    "    value = options[0]['value'] if options else None\n",
    "    return options, value\n",
    "\n",
    "\n",
    "@app.callback(\n",
    "    Output('sensor-trend', 'figure'),\n",
    "    [Input('sensor-dropdown', 'value'),\n",
    "     Input('interval-component', 'n_intervals')]\n",
    ")\n",
    "def update_sensor_graph(sensor_id, n):\n",
    "    df = pd.read_csv(CSV_FILE)\n",
    "    if sensor_id:\n",
    "        df = df[df['sensor_id'] == sensor_id]\n",
    "        fig = px.line(df, x='timestamp', y='pollution_level', title=f'Trends for Sensor {sensor_id}')\n",
    "        return fig\n",
    "    return px.line(title=\"No Sensor Selected\")\n",
    "\n",
    "\n",
    "if _name_ == '_main_':\n",
    "    app.run_server(debug=True)"
   ]
  },
  {
   "cell_type": "code",
   "execution_count": null,
   "id": "2047fc39",
   "metadata": {},
   "outputs": [],
   "source": []
  }
 ],
 "metadata": {
  "kernelspec": {
   "display_name": "pollutrack-env",
   "language": "python",
   "name": "python3"
  },
  "language_info": {
   "codemirror_mode": {
    "name": "ipython",
    "version": 3
   },
   "file_extension": ".py",
   "mimetype": "text/x-python",
   "name": "python",
   "nbconvert_exporter": "python",
   "pygments_lexer": "ipython3",
   "version": "3.10.16"
  }
 },
 "nbformat": 4,
 "nbformat_minor": 5
}
